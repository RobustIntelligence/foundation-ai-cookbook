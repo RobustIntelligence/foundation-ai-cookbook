{
 "cells": [
  {
   "cell_type": "markdown",
   "id": "bbed2190-ccbd-4575-b4be-c239bc83c6b4",
   "metadata": {},
   "source": [
    "# Quantized models\n",
    "\n",
    "We have released two quantized versions of our base model ([fdtn-ai/Foundation-Sec-8B](https://huggingface.co/fdtn-ai/Foundation-Sec-8B)), in different sizes:\n",
    "\n",
    "- [fdtn-ai/Foundation-Sec-8B-Q4_K_M-GGUF](https://huggingface.co/fdtn-ai/Foundation-Sec-8B-Q4_K_M-GGUF): 4-bit quantized (~4.92GB memory footprint)\n",
    "- [fdtn-ai/Foundation-Sec-8B-Q8_0-GGUF](https://huggingface.co/fdtn-ai/Foundation-Sec-8B-Q8_0-GGUF): 8-bit quantized (~8.54GB memory footprint)\n",
    "\n",
    "Both models are optimized to run on laptops without requiring a GPU.\n",
    "\n",
    "## Setup"
   ]
  },
  {
   "cell_type": "code",
   "execution_count": 1,
   "id": "d9b737f2-3677-4fe4-942e-ad6d8d17982a",
   "metadata": {},
   "outputs": [],
   "source": [
    "from llama_cpp import Llama\n",
    "from huggingface_hub import hf_hub_download\n",
    "\n",
    "# run the followwing command if llama-cpp-python has not been installed\n",
    "# !pip install llama-cpp-python"
   ]
  },
  {
   "cell_type": "code",
   "execution_count": 2,
   "id": "8b78444c-c01b-42b9-9ce7-06d8d5549ae0",
   "metadata": {},
   "outputs": [],
   "source": [
    "MODEL_NAME = \"fdtn-ai/Foundation-Sec-8B-Q4_K_M-GGUF\"\n",
    "FILE_NAME = \"foundation-sec-8b-q4_k_m.gguf\"\n",
    "\n",
    "# If you want to use 8-bit (Q8_0) GGUF instead, uncomment the codes below\n",
    "\n",
    "# MODEL_NAME = \"fdtn-ai/Foundation-Sec-8B-Q8_0-GGUF\"\n",
    "# FILE_NAME = \"foundation-sec-8b-q8_0.gguf\""
   ]
  },
  {
   "cell_type": "code",
   "execution_count": 3,
   "id": "b66c22e4-74a6-4f7e-9bf5-9de861e4f4df",
   "metadata": {},
   "outputs": [
    {
     "name": "stderr",
     "output_type": "stream",
     "text": [
      "llama_context: n_ctx_per_seq (512) < n_ctx_train (131072) -- the full capacity of the model will not be utilized\n"
     ]
    }
   ],
   "source": [
    "model_file = hf_hub_download(repo_id = MODEL_NAME, filename = FILE_NAME)\n",
    "model = Llama(model_path = model_file, verbose = False)"
   ]
  },
  {
   "cell_type": "markdown",
   "id": "15b549d4-3fe7-4e43-96e7-0e3b8e1e659a",
   "metadata": {},
   "source": [
    "## Configurations\n",
    "You can adjust the model's text generation behavior by tuning its arguments. <br>\n",
    "Below is an example configuration to ensure reproducible outputs. <br>\n",
    "For a full list of arguments and detailed explanations, refer to the [llama-cpp-python API reference](https://llama-cpp-python.readthedocs.io/en/latest/api-reference/)."
   ]
  },
  {
   "cell_type": "code",
   "execution_count": 4,
   "id": "96e6e222-0474-472e-84c3-208df046972b",
   "metadata": {},
   "outputs": [],
   "source": [
    "params = {\n",
    "    \"max_tokens\" : 256,\n",
    "    \"temperature\" : 0.0,\n",
    "    \"repeat_penalty\" : 1.2,\n",
    "}"
   ]
  },
  {
   "cell_type": "markdown",
   "id": "cbfb03b1-842f-4f85-a342-a96fc781a3fa",
   "metadata": {},
   "source": [
    "## Inference\n",
    "\n",
    "Let’s try the same prompts used in the [Quickstart (Foundation-Sec-8B)](https://github.com/RobustIntelligence/foundation-ai-cookbook/blob/main/1_quickstarts/Quickstart_Foundation-Sec-8B.ipynb) and observe the results!"
   ]
  },
  {
   "cell_type": "code",
   "execution_count": 5,
   "id": "92df1b39-0dd2-44be-b863-c07cc78eef38",
   "metadata": {},
   "outputs": [],
   "source": [
    "prompt = \"MITRE ATT&CK is\"\n",
    "\n",
    "response = model(prompt, **params)"
   ]
  },
  {
   "cell_type": "code",
   "execution_count": 6,
   "id": "0a48abd7-5411-49ce-baee-d03dd3e24ae9",
   "metadata": {},
   "outputs": [
    {
     "name": "stdout",
     "output_type": "stream",
     "text": [
      "MITRE ATT&CK is a globally accessible knowledge base of adversary tactics and techniques based on real-world observations. The ATT&CK knowledge base is used as a foundation for the development of specific threat models and methodologies in the private sector, government, and the cybersecurity product and service community.\n",
      "MITRE ATT&CK has been adopted by many organizations to help them understand how adversaries operate so they can better defend their networks against attacks. It provides a common language that security professionals use when discussing threats with each other or within an organization’s IT department. The framework also helps identify gaps in existing defenses and prioritize improvements based on actual threat activity observed across multiple industries worldwide over time since its inception back in 2013 by MITRE Corporation (a non-profit research institute).\n",
      "MITRE ATT&CK is a knowledge base of adversary tactics, techniques, and procedures that can be used to understand how adversaries operate. It was created as part of the Cyber Threat Intelligence Program at MITRE Corporation. The goal behind this project was twofold: first, it would help organizations better defend themselves against cyber threats; secondly, by sharing information about these attacks with other companies who may also face similar issues in their own networks or systems – thus improving overall security posture across industries worldwide!\n",
      "MITRE ATT&CK is a framework\n"
     ]
    }
   ],
   "source": [
    "print(prompt + response[\"choices\"][0][\"text\"])"
   ]
  },
  {
   "cell_type": "code",
   "execution_count": 7,
   "id": "2744b52c-cafc-4455-ad43-808f42413fdd",
   "metadata": {},
   "outputs": [],
   "source": [
    "prompt=\"\"\"CVE-2021-44228 is a remote code execution flaw in Apache Log4j2 via unsafe JNDI lookups (“Log4Shell”). The CWE is CWE-502.\n",
    "\n",
    "CVE-2017-0144 is a remote code execution vulnerability in Microsoft’s SMBv1 server (“EternalBlue”) due to a buffer overflow. The CWE is CWE-119.\n",
    "\n",
    "CVE-2014-0160 is an information-disclosure bug in OpenSSL’s heartbeat extension (“Heartbleed”) causing out-of-bounds reads. The CWE is CWE-125.\n",
    "\n",
    "CVE-2017-5638 is a remote code execution issue in Apache Struts 2’s Jakarta Multipart parser stemming from improper input validation of the Content-Type header. The CWE is CWE-20.\n",
    "\n",
    "CVE-2019-0708 is a remote code execution vulnerability in Microsoft’s Remote Desktop Services (“BlueKeep”) triggered by a use-after-free. The CWE is CWE-416.\n",
    "\n",
    "CVE-2015-10011 is a vulnerability about OpenDNS OpenResolve improper log output neutralization. The CWE is\"\"\"\n",
    "\n",
    "# Update the max_new_tokens to 3, as we just want to get CWE-ID.\n",
    "params[\"max_tokens\"] = 3\n",
    "\n",
    "response = model(prompt, **params)"
   ]
  },
  {
   "cell_type": "code",
   "execution_count": 8,
   "id": "ff781d02-d450-438d-a9f8-2750996b3340",
   "metadata": {},
   "outputs": [
    {
     "name": "stdout",
     "output_type": "stream",
     "text": [
      "CWE-117\n"
     ]
    }
   ],
   "source": [
    "print(response[\"choices\"][0][\"text\"].strip())"
   ]
  }
 ],
 "metadata": {
  "kernelspec": {
   "display_name": "Python 3 (ipykernel)",
   "language": "python",
   "name": "python3"
  },
  "language_info": {
   "codemirror_mode": {
    "name": "ipython",
    "version": 3
   },
   "file_extension": ".py",
   "mimetype": "text/x-python",
   "name": "python",
   "nbconvert_exporter": "python",
   "pygments_lexer": "ipython3",
   "version": "3.10.12"
  }
 },
 "nbformat": 4,
 "nbformat_minor": 5
}
