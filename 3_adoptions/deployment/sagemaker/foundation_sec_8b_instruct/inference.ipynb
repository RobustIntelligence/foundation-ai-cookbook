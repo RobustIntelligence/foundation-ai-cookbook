{
 "cells": [
  {
   "cell_type": "markdown",
   "id": "59f91252",
   "metadata": {},
   "source": [
    "# Inference\n",
    "\n",
    "This continues from [the deployment notebook](https://github.com/RobustIntelligence/foundation-ai-cookbook/blob/main/3_adoptions/deployment/sagemaker/foundation_sec_8b_instruct/deploy.ipynb). <br>\n",
    "Let's perform inference using the model deployed on Amazon SageMaker AI. <br>\n",
    "As a prerequisite, please ensure you have access to SageMaker from the environment where this notebook is being run."
   ]
  },
  {
   "cell_type": "code",
   "execution_count": null,
   "id": "98a462af",
   "metadata": {},
   "outputs": [],
   "source": [
    "import boto3\n",
    "import json"
   ]
  },
  {
   "cell_type": "code",
   "execution_count": null,
   "id": "1cd887b6",
   "metadata": {},
   "outputs": [],
   "source": [
    "sagemaker_runtime = boto3.client('sagemaker-runtime')\n",
    "endpoint_name = '' # copy & paste an endpoint created by the deployment notebook\n",
    "\n",
    "# Set the same parameters from quickstart\n",
    "max_tokens = 2048"
   ]
  },
  {
   "cell_type": "code",
   "execution_count": null,
   "id": "002eb149",
   "metadata": {},
   "outputs": [],
   "source": [
    "def chat_generation(user_prompt):\n",
    "    messages = [\n",
    "        {\n",
    "            \"role\": \"user\",\n",
    "            \"content\": user_prompt\n",
    "        }\n",
    "    ]\n",
    "    payload = {\n",
    "        \"messages\": messages,\n",
    "        \"temperature\": 0.3,\n",
    "        \"max_tokens\": max_tokens,\n",
    "    }\n",
    "    response = sagemaker_runtime.invoke_endpoint(\n",
    "        EndpointName=endpoint_name,\n",
    "        Body=json.dumps(payload),\n",
    "        ContentType=\"application/json\",\n",
    "        CustomAttributes='accept_eula=false'\n",
    "    )\n",
    "    body = json.loads(response['Body'].read().decode('utf-8'))\n",
    "    return body[\"choices\"][0][\"message\"][\"content\"]"
   ]
  },
  {
   "cell_type": "code",
   "execution_count": null,
   "id": "9a10dfc2",
   "metadata": {},
   "outputs": [],
   "source": [
    "user_prompt = \"What can you help me with?\"\n",
    "\n",
    "print(chat_generation(user_prompt))"
   ]
  },
  {
   "cell_type": "code",
   "execution_count": null,
   "id": "e263b6fb",
   "metadata": {},
   "outputs": [],
   "source": []
  }
 ],
 "metadata": {
  "kernelspec": {
   "display_name": "Python 3 (ipykernel)",
   "language": "python",
   "name": "python3"
  },
  "language_info": {
   "codemirror_mode": {
    "name": "ipython",
    "version": 3
   },
   "file_extension": ".py",
   "mimetype": "text/x-python",
   "name": "python",
   "nbconvert_exporter": "python",
   "pygments_lexer": "ipython3",
   "version": "3.11.10"
  }
 },
 "nbformat": 4,
 "nbformat_minor": 5
}
