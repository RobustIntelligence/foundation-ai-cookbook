{
 "cells": [
  {
   "cell_type": "markdown",
   "id": "4b5381e3",
   "metadata": {},
   "source": [
    "# Deployment\n",
    "\n",
    "Let's deploy Foundation AI Foundation-Sec-8B-Instruct model onto Amazon SageMaker AI. <br>\n",
    "You can use the model deployed by this notebook for inference.  Refer to [the inference notebook](https://github.com/RobustIntelligence/foundation-ai-cookbook/blob/main/3_adoptions/deployment/sagemaker/foundation_sec_8b_instruct/inference.ipynb) for sample code.\n",
    "\n",
    "As a prerequisite, please launch JupyterLab on SageMaker in your AWS environment. For more details, visit: \n",
    "https://docs.aws.amazon.com/sagemaker/latest/dg/studio-updated-jl.html"
   ]
  },
  {
   "cell_type": "code",
   "execution_count": null,
   "id": "5a3f495b",
   "metadata": {},
   "outputs": [],
   "source": [
    "import sagemaker\n",
    "import boto3"
   ]
  },
  {
   "cell_type": "code",
   "execution_count": null,
   "id": "6cd9f418",
   "metadata": {},
   "outputs": [],
   "source": [
    "MODEL_NAME = 'fdtn-ai/Foundation-Sec-8B-Instruct'\n",
    "INSTANCE_TYPE = 'ml.g6e.2xlarge'\n",
    "TIMEOUT = 900"
   ]
  },
  {
   "cell_type": "code",
   "execution_count": null,
   "id": "bad7e4da",
   "metadata": {},
   "outputs": [],
   "source": [
    "try:\n",
    "    role = sagemaker.get_execution_role()\n",
    "except ValueError:\n",
    "    iam = boto3.client('iam')\n",
    "    role = iam.get_role(RoleName='sagemaker_execution_role')['Role']['Arn']"
   ]
  },
  {
   "cell_type": "code",
   "execution_count": null,
   "id": "a868be83",
   "metadata": {},
   "outputs": [],
   "source": [
    "container_uri = \"763104351884.dkr.ecr.us-west-2.amazonaws.com/djl-inference:0.33.0-lmi15.0.0-cu128\""
   ]
  },
  {
   "cell_type": "code",
   "execution_count": null,
   "id": "98495d3a",
   "metadata": {},
   "outputs": [],
   "source": [
    "endpoint_name = sagemaker.utils.name_from_base(\"Foundation-Sec-8B-Instruct\")\n",
    "print(\"Deploying to endpoint: \", endpoint_name)"
   ]
  },
  {
   "cell_type": "code",
   "execution_count": null,
   "id": "09447087",
   "metadata": {},
   "outputs": [],
   "source": [
    "# You can also change other variables\n",
    "env_vars = {\n",
    "    \"HF_MODEL_ID\": MODEL_NAME,\n",
    "}\n",
    "\n",
    "\n",
    "model = sagemaker.Model(\n",
    "    name=endpoint_name,\n",
    "    image_uri=container_uri,\n",
    "    role=role,\n",
    "    env=env_vars,\n",
    ")\n",
    "\n",
    "model.deploy(\n",
    "    instance_type=INSTANCE_TYPE,\n",
    "    initial_instance_count=1,\n",
    "    endpoint_name=endpoint_name,\n",
    ")"
   ]
  },
  {
   "cell_type": "markdown",
   "id": "a0fd323b",
   "metadata": {},
   "source": [
    "The predictor's endpoint will be used for [inference](https://github.com/RobustIntelligence/foundation-ai-cookbook/blob/main/3_adoptions/deployment/sagemaker/foundation_sec_8b_instruct/inference.ipynb). You can also get the endpoint from SageMaker Studio's console."
   ]
  }
 ],
 "metadata": {
  "kernelspec": {
   "display_name": "Python 3 (ipykernel)",
   "language": "python",
   "name": "python3"
  },
  "language_info": {
   "codemirror_mode": {
    "name": "ipython",
    "version": 3
   },
   "file_extension": ".py",
   "mimetype": "text/x-python",
   "name": "python",
   "nbconvert_exporter": "python",
   "pygments_lexer": "ipython3",
   "version": "3.11.10"
  }
 },
 "nbformat": 4,
 "nbformat_minor": 5
}
