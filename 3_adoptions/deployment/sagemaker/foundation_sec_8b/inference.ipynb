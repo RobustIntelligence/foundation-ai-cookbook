{
 "cells": [
  {
   "cell_type": "markdown",
   "id": "728ad1b2-f075-4532-a7a5-cf8473cda5b2",
   "metadata": {},
   "source": [
    "# Inference\n",
    "\n",
    "This continues from [the deployment notebook](https://github.com/RobustIntelligence/foundation-ai-cookbook/blob/main/3_adoptions/deployment/sagemaker/foundation_sec_8b/deploy.ipynb). <br>\n",
    "Let's perform inference using the model deployed on Amazon SageMaker AI. <br>\n",
    "As a prerequisite, please ensure you have access to SageMaker from the environment where this notebook is being run."
   ]
  },
  {
   "cell_type": "code",
   "execution_count": 1,
   "id": "cb084399-8280-4bf2-99c8-b1479b4184d7",
   "metadata": {
    "execution": {
     "iopub.execute_input": "2025-06-09T04:11:21.012794Z",
     "iopub.status.busy": "2025-06-09T04:11:21.012311Z",
     "iopub.status.idle": "2025-06-09T04:11:21.131621Z",
     "shell.execute_reply": "2025-06-09T04:11:21.130979Z",
     "shell.execute_reply.started": "2025-06-09T04:11:21.012763Z"
    }
   },
   "outputs": [],
   "source": [
    "import boto3\n",
    "import json"
   ]
  },
  {
   "cell_type": "code",
   "execution_count": 2,
   "id": "5b9657b8-756f-4276-abc4-81699995559d",
   "metadata": {
    "execution": {
     "iopub.execute_input": "2025-06-09T04:11:21.133300Z",
     "iopub.status.busy": "2025-06-09T04:11:21.132573Z",
     "iopub.status.idle": "2025-06-09T04:11:21.205367Z",
     "shell.execute_reply": "2025-06-09T04:11:21.204677Z",
     "shell.execute_reply.started": "2025-06-09T04:11:21.133269Z"
    }
   },
   "outputs": [],
   "source": [
    "sagemaker_runtime = boto3.client('sagemaker-runtime')\n",
    "endpoint_name = '' # copy & paste an endpoint created by the deployment notebook\n",
    "\n",
    "# Set the same parameters from quickstart\n",
    "inference_params = {\n",
    "    \"temperature\": None,\n",
    "    \"max_new_tokens\": 256,\n",
    "    \"repetition_penalty\": 1.2,\n",
    "    \"do_sample\": False,\n",
    "    \"use_cache\": True,\n",
    "}"
   ]
  },
  {
   "cell_type": "code",
   "execution_count": 3,
   "id": "5b44e815-6421-44c3-86e5-12568f674e14",
   "metadata": {
    "execution": {
     "iopub.execute_input": "2025-06-09T04:11:21.207224Z",
     "iopub.status.busy": "2025-06-09T04:11:21.206760Z",
     "iopub.status.idle": "2025-06-09T04:11:21.211559Z",
     "shell.execute_reply": "2025-06-09T04:11:21.210850Z",
     "shell.execute_reply.started": "2025-06-09T04:11:21.207196Z"
    }
   },
   "outputs": [],
   "source": [
    "def inference(prompt):\n",
    "    payload = {\n",
    "        \"inputs\":  prompt,\n",
    "        \"parameters\": inference_params,\n",
    "        \"stream\": False\n",
    "    }\n",
    "    response = sagemaker_runtime.invoke_endpoint(\n",
    "        EndpointName=endpoint_name,\n",
    "        Body=json.dumps(payload),\n",
    "        ContentType=\"application/json\",\n",
    "        CustomAttributes='accept_eula=false'\n",
    "    )\n",
    "    return json.loads(response['Body'].read().decode('utf-8'))[0]['generated_text']"
   ]
  },
  {
   "cell_type": "code",
   "execution_count": 4,
   "id": "6278af89-244f-4625-8e28-48d47fc9de5e",
   "metadata": {
    "execution": {
     "iopub.execute_input": "2025-06-09T04:11:21.212973Z",
     "iopub.status.busy": "2025-06-09T04:11:21.212367Z",
     "iopub.status.idle": "2025-06-09T04:11:25.232598Z",
     "shell.execute_reply": "2025-06-09T04:11:25.231757Z",
     "shell.execute_reply.started": "2025-06-09T04:11:21.212943Z"
    }
   },
   "outputs": [
    {
     "name": "stdout",
     "output_type": "stream",
     "text": [
      "MITRE ATT&CK is a globally accessible knowledge base of adversary tactics and techniques based on real-world observations. The goal is to help cyber defense professionals and tool providers improve their detection and response capabilities by providing them with a common taxonomy for describing how adversaries operate.\n",
      "The MITRE Corporation, which operates federally funded research centers in the United States, created this framework as part of its work supporting U.S. government cybersecurity initiatives. It was first released publicly in 2015 but has since been adopted widely across industries worldwide due to its comprehensive coverage of various attack vectors used by malicious actors today.\n"
     ]
    }
   ],
   "source": [
    "prompt = \"MITRE ATT&CK is\"\n",
    "\n",
    "print(inference(prompt))"
   ]
  }
 ],
 "metadata": {
  "kernelspec": {
   "display_name": "Python 3 (ipykernel)",
   "language": "python",
   "name": "python3"
  },
  "language_info": {
   "codemirror_mode": {
    "name": "ipython",
    "version": 3
   },
   "file_extension": ".py",
   "mimetype": "text/x-python",
   "name": "python",
   "nbconvert_exporter": "python",
   "pygments_lexer": "ipython3",
   "version": "3.12.9"
  }
 },
 "nbformat": 4,
 "nbformat_minor": 5
}
