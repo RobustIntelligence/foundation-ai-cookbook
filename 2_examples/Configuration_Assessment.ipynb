{
  "nbformat": 4,
  "nbformat_minor": 0,
  "metadata": {
    "colab": {
      "provenance": []
    },
    "kernelspec": {
      "name": "python3",
      "display_name": "Python 3"
    },
    "language_info": {
      "name": "python"
    }
  },
  "cells": [
    {
      "cell_type": "markdown",
      "source": [
        "# Setup & Utils"
      ],
      "metadata": {
        "id": "AI5ozM2h2Nva"
      }
    },
    {
      "cell_type": "code",
      "source": [
        "import requests"
      ],
      "metadata": {
        "id": "BPloud0h2LI9"
      },
      "execution_count": null,
      "outputs": []
    },
    {
      "cell_type": "code",
      "source": [
        "import re\n",
        "\n",
        "def extract_model_response(text: str) -> str:\n",
        "    \"\"\"\n",
        "    Extracts the content between <think> and the final <|eot_id|> marker.\n",
        "\n",
        "    Parameters:\n",
        "        text (str): The full text containing <think> and <|eot_id|> markers.\n",
        "\n",
        "    Returns:\n",
        "        str: The extracted content between <think> and <|eot_id|>, or an empty string if not found.\n",
        "    \"\"\"\n",
        "    match = re.search(r\"<think>(.*?)<\\|end_of_text\\|>\", text, re.DOTALL)\n",
        "    return match.group(1).strip() if match else \"\"\n"
      ],
      "metadata": {
        "id": "u5pjZGi32FsI"
      },
      "execution_count": null,
      "outputs": []
    },
    {
      "cell_type": "markdown",
      "source": [
        "**Please enter the API key that was provided to you**"
      ],
      "metadata": {
        "id": "QpC9sBBxCdhS"
      }
    },
    {
      "cell_type": "code",
      "source": [
        "API_KEY = \"\""
      ],
      "metadata": {
        "id": "v46D7fgiBNZF"
      },
      "execution_count": null,
      "outputs": []
    },
    {
      "cell_type": "markdown",
      "source": [
        "# Use Case - Configuration Assessment"
      ],
      "metadata": {
        "id": "QovkslOXDnWR"
      }
    },
    {
      "cell_type": "markdown",
      "source": [
        "**Use Case Description**- In nearly every security incident, misconfiguration is either the root cause or a critical enabler. Today, most config assessments rely on static rule-matching engines that check config files or cloud settings against predefined rules. But these tools lack contextual understanding of how different components interact — they can't tell if a setting is safe for your environment. This use case focuses on an AI model that ingests configuration data across cloud, infra, app, and identity layers — and reasons over them to answer:"
      ],
      "metadata": {
        "id": "EAokgJY3Dsw2"
      }
    },
    {
      "cell_type": "markdown",
      "source": [
        "## Config Assessment Utilities"
      ],
      "metadata": {
        "id": "-2XV1flWD-qM"
      }
    },
    {
      "cell_type": "code",
      "source": [
        "def create_config_assessment_prompt(config_text):\n",
        "    \"\"\"Generate a prompt for security config analysis.\"\"\"\n",
        "    prompt = f\"\"\"You are a security auditor reviewing the configuration of a Terraform configuration file for security issues.\n",
        "\n",
        "Go over the following configuration line-by-line and assess it for:\n",
        "1. Security misconfigurations\n",
        "2. Weak or deprecated settings\n",
        "3. Missing best practices\n",
        "\n",
        "## CONFIGURATION\n",
        "{config_text}\n",
        "\n",
        "Respond with:\n",
        "- Detected misconfiguration\n",
        "- Severity (Low/Medium/High)\n",
        "- Recommended fix\n",
        "\"\"\"\n",
        "    return prompt"
      ],
      "metadata": {
        "id": "-DC2ytnRDrRf"
      },
      "execution_count": null,
      "outputs": []
    },
    {
      "cell_type": "code",
      "source": [
        "def run_config_assessment(config_text):\n",
        "     \"\"\"Send the config to an AI model and return a security assessment.\"\"\"\n",
        "     prompt = create_config_assessment_prompt(config_text)\n",
        "     resp = requests.post(\n",
        "        \"https://model-8w6j1ojq.api.baseten.co/development/predict\",\n",
        "        headers={\"Authorization\": f\"Api-Key {API_KEY}\"},\n",
        "        json={\"prompt\": prompt},\n",
        "        )\n",
        "     return extract_model_response(resp.text)"
      ],
      "metadata": {
        "id": "EmUTLIpDEFCA"
      },
      "execution_count": null,
      "outputs": []
    },
    {
      "cell_type": "markdown",
      "source": [
        "## Example Usage"
      ],
      "metadata": {
        "id": "kiNWBnzgEZdS"
      }
    },
    {
      "cell_type": "markdown",
      "source": [
        "Here’s a mock configuration for a Linux-based SSH server:"
      ],
      "metadata": {
        "id": "BY5Wyux1EhVQ"
      }
    },
    {
      "cell_type": "code",
      "source": [
        "terraform_sample = \"\"\"\n",
        "provider \"google\" {\n",
        "  project = \"my-project\"\n",
        "  region  = \"us-central1\"\n",
        "}\n",
        "\n",
        "resource \"google_compute_network\" \"default\" {\n",
        "  name                    = \"default-network\"\n",
        "  auto_create_subnetworks = true\n",
        "}\n",
        "\n",
        "resource \"google_compute_firewall\" \"allow_all_inbound\" {\n",
        "  name    = \"allow-all-inbound\"\n",
        "  network = google_compute_network.default.name\n",
        "\n",
        "  direction = \"INGRESS\"\n",
        "  priority  = 1000\n",
        "\n",
        "  allows {\n",
        "    protocol = \"tcp\"\n",
        "    ports    = [\"0-65535\"]\n",
        "  }\n",
        "\n",
        "  allows {\n",
        "    protocol = \"udp\"\n",
        "    ports    = [\"0-65535\"]\n",
        "  }\n",
        "\n",
        "  source_ranges = [\"0.0.0.0/0\"]\n",
        "\n",
        "  target_tags = [\"web\"]\n",
        "  description = \"Allow all inbound traffic from any IP on all ports\"\n",
        "}\n",
        "\"\"\"\n"
      ],
      "metadata": {
        "id": "Obe30-VYESs6"
      },
      "execution_count": null,
      "outputs": []
    },
    {
      "cell_type": "code",
      "source": [
        "output = run_config_assessment(terraform_sample)"
      ],
      "metadata": {
        "id": "7q9yZevyEi8b"
      },
      "execution_count": null,
      "outputs": []
    },
    {
      "cell_type": "code",
      "source": [
        "print(output)"
      ],
      "metadata": {
        "colab": {
          "base_uri": "https://localhost:8080/"
        },
        "id": "Hhengz6IEmfJ",
        "outputId": "b4d22cad-d5c0-4fb7-e245-257f7996d0e9"
      },
      "execution_count": null,
      "outputs": [
        {
          "output_type": "stream",
          "name": "stdout",
          "text": [
            "I'll review the provided Terraform configuration line-by-line, identifying potential security misconfigurations, weak or deprecated settings, and missing best practices.\n",
            "\n",
            "### Provider Configuration\n",
            "\n",
            "```haskell\n",
            "provider \"google\" {\n",
            "  project = \"my-project\"\n",
            "  region  = \"us-central1\"\n",
            "}\n",
            "```\n",
            "\n",
            "* No immediate security concerns here. The provider is correctly configured with a project and region.\n",
            "* Best practice: Consider using a service account key file instead of hardcoding credentials. However, since this isn't mentioned in the code snippet, I won't mark it as a detected issue here. But it's worth noting in a real-world audit.\n",
            "\n",
            "### Network Resource\n",
            "\n",
            "```haskel\n",
            "resource \"google_compute_network\" \"default\" {\n",
            "  name                    = \"default-network\"\n",
            "  auto_create_subnetworks = true\n",
            "}\n",
            "```\n",
            "\n",
            "* Misconfiguration: **Medium** - Allowing auto-create subnets might lead to unnecessary resources being created. It's recommended to set `auto_create_subnetworks` to `false` unless explicitly needed. This can help prevent accidental subnet creation.\n",
            "* Fix: Set `auto_create_subnetworks = false`.\n",
            "\n",
            "### Firewall Rule\n",
            "\n",
            "```haskel\n",
            "resource \"google_compute_firewall\" \"allow_all_inbound\" {\n",
            "  #...\n",
            "  allows {\n",
            "    protocol = \"tcp\"\n",
            "    ports    = [\"0-65535\"]\n",
            "  }\n",
            "  \n",
            "  allows {\n",
            "    protocol = \"udp\"\n",
            "    ports    = [\"0-65535\"]\n",
            "  }\n",
            "  \n",
            "  source_ranges = [\"0.0.0.0/0\"]\n",
            "  #...\n",
            "}\n",
            "```\n",
            "\n",
            "* Misconfiguration: **High** - The firewall rule allows all incoming UDP and TCP traffic on all ports (`0-65535`) from any IP address (`source_ranges = [\"0.0.0.0/0\"]`). This is a significant security risk because it exposes the instance to potential attacks like brute-force login attempts, DDoS amplification, etc.\n",
            "* Fix: Restrict the allowed ports to only those required by your application. For example, if you're running a web server, allow HTTP (80) and HTTPS (443). Also, consider setting `source_ranges` to specific IP ranges or networks that need access, rather than allowing all IPs.\n",
            "\n",
            "Additional recommendations:\n",
            "\n",
            "* Consider adding a default deny policy at the end of the firewall ruleset to ensure that any traffic not explicitly allowed is blocked.\n",
            "* Use tags more effectively; instead of relying on `target_tags`, use labels on instances and then reference them in the firewall rule. This provides better granularity and flexibility.\n",
            "* Ensure that the firewall rule has an appropriate `log_config` setup to monitor traffic and detect potential security incidents.\n",
            "\n",
            "Here's a summary of the findings:\n",
            "\n",
            "1. Auto-create subnets enabled (Medium)\n",
            "   * Severity: Medium\n",
            "   * Fix: Set `auto_create_subnetworks = false`\n",
            "\n",
            "2. Allow all inbound traffic on all ports (High)\n",
            "   * Severity: High\n",
            "   * Fix: Restrict allowed ports and source ranges.\n"
          ]
        }
      ]
    }
  ]
}