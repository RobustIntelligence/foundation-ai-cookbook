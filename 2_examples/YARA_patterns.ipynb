{
 "cells": [
  {
   "cell_type": "markdown",
   "id": "5329c454-4a3d-4f20-b135-ec47fef3a255",
   "metadata": {},
   "source": [
    "# Use Case Description\n",
    "\n",
    "YARA is a well-known tool to identify and classify malware samples by describing patterns in textual or binary. <br>\n",
    "But it's an onerous effort to list up bunch of patterns. <br>\n",
    "Let's use our models to create YARA patterns and generate test strings.\n",
    "\n",
    "## Model used for this use case\n",
    "Instruct Model is ideal for generating snippets based on user instructions. <br>\n",
    "Using a Reasoning Model for this task may be excessive and could result in performance degradation."
   ]
  },
  {
   "cell_type": "markdown",
   "id": "d9f25ed1-9390-49ff-b1b7-a0dfaf91db4b",
   "metadata": {},
   "source": [
    "## SetUp\n",
    "\n",
    "The setup scripts below are essentially the same as those in the [Quickstart (Instruct Model)](https://github.com/RobustIntelligence/foundation-ai-cookbook/blob/main/1_quickstarts/Preview_Quickstart_instruct_model.ipynb)"
   ]
  },
  {
   "cell_type": "code",
   "execution_count": 1,
   "id": "3ee81194-8965-4bb0-97c5-8967d0886d72",
   "metadata": {},
   "outputs": [],
   "source": [
    "import os\n",
    "import transformers\n",
    "import torch\n",
    "from IPython.display import display, Markdown\n",
    "\n",
    "HF_TOKEN = os.getenv(\"HF_TOKEN\")\n",
    "DEVICE = \"cuda\" if torch.cuda.is_available() else \"cpu\""
   ]
  },
  {
   "cell_type": "code",
   "execution_count": 2,
   "id": "aa71d190-cd3e-48c9-aa47-d56b8857147e",
   "metadata": {},
   "outputs": [
    {
     "data": {
      "application/vnd.jupyter.widget-view+json": {
       "model_id": "e43ea285ee6949e288c2366584e6ca36",
       "version_major": 2,
       "version_minor": 0
      },
      "text/plain": [
       "Loading checkpoint shards:   0%|          | 0/7 [00:00<?, ?it/s]"
      ]
     },
     "metadata": {},
     "output_type": "display_data"
    }
   ],
   "source": [
    "MODEL_ID = \"\" # To be relaced with the final model name\n",
    "\n",
    "from transformers import AutoModelForCausalLM, AutoTokenizer\n",
    "\n",
    "tokenizer = AutoTokenizer.from_pretrained(MODEL_ID, token=HF_TOKEN)\n",
    "model = AutoModelForCausalLM.from_pretrained(\n",
    "    pretrained_model_name_or_path=MODEL_ID,\n",
    "    device_map=\"auto\",\n",
    "    torch_dtype=torch.bfloat16, # this model's tensor_type is BF16\n",
    "    token=HF_TOKEN,\n",
    ")"
   ]
  },
  {
   "cell_type": "code",
   "execution_count": 3,
   "id": "ccf64bf9-9770-40ca-8f32-87efd7942b6f",
   "metadata": {},
   "outputs": [],
   "source": [
    "generation_args = {\n",
    "    \"max_new_tokens\": 1024,\n",
    "    \"temperature\": None,\n",
    "    \"repetition_penalty\": 1.2,\n",
    "    \"do_sample\": False,\n",
    "    \"use_cache\": True,\n",
    "    \"eos_token_id\": tokenizer.eos_token_id,\n",
    "    \"pad_token_id\": tokenizer.pad_token_id,\n",
    "}"
   ]
  },
  {
   "cell_type": "code",
   "execution_count": 4,
   "id": "6649ecd7-73e3-4990-b172-2776f3c71414",
   "metadata": {},
   "outputs": [],
   "source": [
    "import re\n",
    "\n",
    "def inference(prompt, system_prompt):\n",
    "    messages = [\n",
    "        {\"role\": \"system\", \"content\": system_prompt},\n",
    "        {\"role\": \"user\", \"content\": prompt},\n",
    "    ]\n",
    "    inputs = tokenizer.apply_chat_template(\n",
    "        messages, tokenize=False, add_generation_prompt=True\n",
    "    )\n",
    "    \n",
    "    inputs = tokenizer(inputs, return_tensors=\"pt\").to(DEVICE)\n",
    "    with torch.no_grad():\n",
    "        outputs = model.generate(\n",
    "            **inputs,\n",
    "            **generation_args,\n",
    "        )\n",
    "    response = tokenizer.decode(outputs[0], skip_special_tokens = False)\n",
    "    \n",
    "    # extract the assistant response part only\n",
    "    match = re.search(r\"<\\|assistant\\|>(.*?)<\\|end_of_text\\|>\", response, re.DOTALL)\n",
    "    \n",
    "    return match.group(1).strip()"
   ]
  },
  {
   "cell_type": "markdown",
   "id": "2b462d81-9266-436f-8d1b-47cf0f5337ec",
   "metadata": {},
   "source": [
    "## Generate YARA rules\n",
    "\n",
    "Let’s first create a YARA rule pattern to detect known malicious IPs or file hashes."
   ]
  },
  {
   "cell_type": "code",
   "execution_count": 5,
   "id": "0769923e-0bea-4b12-bcc6-a51327f0086f",
   "metadata": {},
   "outputs": [
    {
     "data": {
      "text/markdown": [
       "```plaintext\n",
       "rule SimpleMalwareDetector {\n",
       "    meta:\n",
       "        description = \"Detects a known malware based on specific indicators\"\n",
       "        author = \"SecurityExpert\"\n",
       "        date = \"2023-04-01\"\n",
       "\n",
       "    strings:\n",
       "        $malicious_ip = \"192.168.1.100\"\n",
       "        $file_hash = \"d41d8cd98f00b204e9800998ecf8427e\"\n",
       "\n",
       "    condition:\n",
       "        ($malicious_ip or $file_hash)\n",
       "}\n",
       "```\n",
       "\n",
       "This YARA rule named `SimpleMalwareDetector` looks for two specific strings: the IP address '192.168.1.100' and the SHA-256 hash 'd41d8cd98f00b204e9800998ecf8427e'. The latter is a known constant that represents an empty file, which might be used as part of a signature in more complex samples; however, here it serves as our indicator.\n",
       "\n",
       "In real-world scenarios, you would need to adjust this according to actual IOCs (Indicators of Compromise) obtained from reliable sources, considering false positives, varying file formats, obfuscation techniques, etc. Also, using just one static value like an IP could lead to false detections if the same values appear elsewhere non-maliciously. For better detection accuracy, multiple layers with different types of rules should be applied."
      ],
      "text/plain": [
       "<IPython.core.display.Markdown object>"
      ]
     },
     "metadata": {},
     "output_type": "display_data"
    }
   ],
   "source": [
    "SYSTEM_PROMPT = \"You are a security expert and your task is write a draft YARA pattern to detect a simple malware sample.\"\n",
    "\n",
    "user_prompt = '''Let's say 192.168.1.100 is a malicious IP and d41d8cd98f00b204e9800998ecf8427e is a file hash.\n",
    "The YARA flags if either string being exactly matched. No other conditions.'''\n",
    "\n",
    "yara_pattern = inference(user_prompt, SYSTEM_PROMPT)\n",
    "display(Markdown(yara_pattern))"
   ]
  },
  {
   "cell_type": "markdown",
   "id": "469f1759-72cd-426d-95a8-943b578a227b",
   "metadata": {},
   "source": [
    "## Make test logs and check by real YARA\n",
    "\n",
    "First, ensure that the YARA pattern you just created conforms to the correct syntax."
   ]
  },
  {
   "cell_type": "code",
   "execution_count": 6,
   "id": "659f0570-82a3-448e-b362-7a9fa6c60c44",
   "metadata": {},
   "outputs": [
    {
     "name": "stdout",
     "output_type": "stream",
     "text": [
      "rule SimpleMalwareDetector {\n",
      "    meta:\n",
      "        description = \"Detects a known malware based on specific indicators\"\n",
      "        author = \"SecurityExpert\"\n",
      "        date = \"2023-04-01\"\n",
      "\n",
      "    strings:\n",
      "        $malicious_ip = \"192.168.1.100\"\n",
      "        $file_hash = \"d41d8cd98f00b204e9800998ecf8427e\"\n",
      "\n",
      "    condition:\n",
      "        ($malicious_ip or $file_hash)\n",
      "}\n"
     ]
    }
   ],
   "source": [
    "match = re.search(r\"```plaintext(.*?)```\", yara_pattern, re.DOTALL)\n",
    "pattern = match.group(1).strip()\n",
    "print(pattern)"
   ]
  },
  {
   "cell_type": "code",
   "execution_count": 7,
   "id": "6e61c39e-fd33-4491-9887-8bfa02e0aed3",
   "metadata": {},
   "outputs": [],
   "source": [
    "import yara\n",
    "# If there's an error it shows that the pattern doesn't conform to the correct syntax.\n",
    "rules = yara.compile(source=pattern)"
   ]
  },
  {
   "cell_type": "markdown",
   "id": "a08f91a0-4fd9-49ae-b209-7e6fdbf94026",
   "metadata": {},
   "source": [
    "Let’s also create some test strings to verify that the YARA patterns function as expected."
   ]
  },
  {
   "cell_type": "code",
   "execution_count": 8,
   "id": "af4f900c-a556-41ff-a695-dddd46a234fe",
   "metadata": {},
   "outputs": [],
   "source": [
    "prompt = f'''Given the following YARA pattern, write two simple log files: fist one is flagged by the YARA, while the second one is not flagged.\n",
    "Since you are writing logs for unit tests, don't include any YARA related descriptions.\n",
    "Each log file should be separated by ---.\n",
    "\n",
    "{pattern}\n",
    "'''"
   ]
  },
  {
   "cell_type": "code",
   "execution_count": 9,
   "id": "1d3cfbca-7c7e-4ec2-9358-f7f3e2630bc4",
   "metadata": {},
   "outputs": [
    {
     "name": "stdout",
     "output_type": "stream",
     "text": [
      "Log File 1 (Flagged by YARA):\n",
      "\n",
      "```\n",
      "Event Log Timestamp: 2023-04-02T10:15:30\n",
      "Source: Endpoint_Security_System\n",
      "Type: Detection\n",
      "Description: Potential Malicious Activity Detected\n",
      "Details:\n",
      "  - IP Address: 192.168.1.100\n",
      "  - Hash: d41d8cd98f00b204e9800998ecf8427e\n",
      "\n",
      "---\n",
      "\n",
      "\n",
      "Log File 2 (Not Flagged by YARA):\n",
      "\n",
      "```\n",
      "Event Log Timestamp: 2023-04-03T14:23:45\n",
      "Source: Endpoint_Security_System\n",
      "Type: Audit_Log\n",
      "Description: System Access Attempt\n",
      "Details:\n",
      "  - User ID: admin123\n",
      "  - Source IP: 192.168.1.101\n",
      "  - Accessed Resource: /var/log/syslog\n",
      "\n",
      "```\n"
     ]
    }
   ],
   "source": [
    "NEW_SYSTEM_PROMPT = \"You are a cybersecurity test engineer to create test files.\"\n",
    "\n",
    "response = inference(prompt, system_prompt = NEW_SYSTEM_PROMPT)\n",
    "print(response)"
   ]
  },
  {
   "cell_type": "code",
   "execution_count": 10,
   "id": "336a0fa7-022b-4da1-bd0b-6bddf158301b",
   "metadata": {},
   "outputs": [],
   "source": [
    "log_to_be_flagged = response.split(\"---\")[0]\n",
    "log_not_to_be_flagged = response.split(\"---\")[1]"
   ]
  },
  {
   "cell_type": "markdown",
   "id": "8f4218f3-e0b2-4e2c-8b96-b9c6474fc5ee",
   "metadata": {},
   "source": [
    "The YARA pattern correctly flags the first log file but does not flag the second one as expected."
   ]
  },
  {
   "cell_type": "code",
   "execution_count": 11,
   "id": "fd3d0b0e-e05e-42f1-a963-904cff6a378a",
   "metadata": {},
   "outputs": [
    {
     "name": "stdout",
     "output_type": "stream",
     "text": [
      "[SimpleMalwareDetector]\n"
     ]
    }
   ],
   "source": [
    "log_to_be_flagged_matches = rules.match(data=log_to_be_flagged)\n",
    "print(log_to_be_flagged_matches)"
   ]
  },
  {
   "cell_type": "code",
   "execution_count": 12,
   "id": "0a5c56a6-d7a4-4fe2-9731-004f51d44d7c",
   "metadata": {},
   "outputs": [
    {
     "name": "stdout",
     "output_type": "stream",
     "text": [
      "[]\n"
     ]
    }
   ],
   "source": [
    "log_not_to_be_flagged_matches = rules.match(data=log_not_to_be_flagged)\n",
    "print(log_not_to_be_flagged_matches)"
   ]
  }
 ],
 "metadata": {
  "kernelspec": {
   "display_name": "Python 3 (ipykernel)",
   "language": "python",
   "name": "python3"
  },
  "language_info": {
   "codemirror_mode": {
    "name": "ipython",
    "version": 3
   },
   "file_extension": ".py",
   "mimetype": "text/x-python",
   "name": "python",
   "nbconvert_exporter": "python",
   "pygments_lexer": "ipython3",
   "version": "3.10.12"
  }
 },
 "nbformat": 4,
 "nbformat_minor": 5
}
