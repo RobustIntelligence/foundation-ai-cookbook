{
  "nbformat": 4,
  "nbformat_minor": 0,
  "metadata": {
    "colab": {
      "provenance": []
    },
    "kernelspec": {
      "name": "python3",
      "display_name": "Python 3"
    },
    "language_info": {
      "name": "python"
    }
  },
  "cells": [
    {
      "cell_type": "markdown",
      "source": [
        "# Setup & Utils"
      ],
      "metadata": {
        "id": "AI5ozM2h2Nva"
      }
    },
    {
      "cell_type": "code",
      "source": [
        "import requests"
      ],
      "metadata": {
        "id": "BPloud0h2LI9"
      },
      "execution_count": null,
      "outputs": []
    },
    {
      "cell_type": "code",
      "source": [
        "import re\n",
        "\n",
        "def extract_model_response(text: str) -> str:\n",
        "    \"\"\"\n",
        "    Extracts the content between <think> and the final <|eot_id|> marker.\n",
        "\n",
        "    Parameters:\n",
        "        text (str): The full text containing <think> and <|eot_id|> markers.\n",
        "\n",
        "    Returns:\n",
        "        str: The extracted content between <think> and <|eot_id|>, or an empty string if not found.\n",
        "    \"\"\"\n",
        "    match = re.search(r\"<think>(.*?)<\\|end_of_text\\|>\", text, re.DOTALL)\n",
        "    return match.group(1).strip() if match else \"\"\n"
      ],
      "metadata": {
        "id": "u5pjZGi32FsI"
      },
      "execution_count": null,
      "outputs": []
    },
    {
      "cell_type": "markdown",
      "source": [
        "**Please enter the API key that was provided to you**"
      ],
      "metadata": {
        "id": "QpC9sBBxCdhS"
      }
    },
    {
      "cell_type": "code",
      "source": [
        "API_KEY = \"\""
      ],
      "metadata": {
        "id": "v46D7fgiBNZF"
      },
      "execution_count": null,
      "outputs": []
    },
    {
      "cell_type": "markdown",
      "source": [
        "# Chat/Q&A with Cybersecurity Reasoning Model"
      ],
      "metadata": {
        "id": "BOqGkA8K2SIq"
      }
    },
    {
      "cell_type": "code",
      "source": [
        "user_prompt = \"\"\"\n",
        "What are best practices for security when deploying a multi-container Docker architecture?\n",
        "\"\"\""
      ],
      "metadata": {
        "id": "NcffbaWm2msL"
      },
      "execution_count": null,
      "outputs": []
    },
    {
      "cell_type": "code",
      "execution_count": null,
      "metadata": {
        "id": "D4oYmkbIqamg"
      },
      "outputs": [],
      "source": [
        "resp = requests.post(\n",
        "    \"https://model-8w6j1ojq.api.baseten.co/development/predict\",\n",
        "    headers={\"Authorization\": f\"Api-Key {API_KEY}\"},\n",
        "    json={'prompt': user_prompt},\n",
        ")\n"
      ]
    },
    {
      "cell_type": "code",
      "source": [
        "model_response = extract_model_response(resp.text)"
      ],
      "metadata": {
        "id": "UyNsI_KJ2bxE"
      },
      "execution_count": null,
      "outputs": []
    },
    {
      "cell_type": "code",
      "source": [
        "print(model_response)"
      ],
      "metadata": {
        "colab": {
          "base_uri": "https://localhost:8080/"
        },
        "id": "wePTaNs9rCeq",
        "outputId": "e6455f5f-7966-4db1-d3db-899427e94924"
      },
      "execution_count": null,
      "outputs": [
        {
          "output_type": "stream",
          "name": "stdout",
          "text": [
            "When deploying a multi-container Docker architecture, the following best practices can be employed to enhance security:\n",
            "\n",
            "1.  **Use Docker Content Trust (DCT)**: DCT enables secure delivery of images by verifying their authenticity and integrity using digital signatures.\n",
            "2.  **Implement Role-Based Access Control (RBAC)**: Use tools like Docker's built-in RBAC or third-party solutions to restrict access to containers based on user roles and permissions.\n",
            "3.  **Utilize Docker Secrets**: Store sensitive data such as passwords and API keys securely using Docker Secrets, which encrypts them at rest and in transit.\n",
            "4.  **Enable Docker Network Segmentation**: Isolate containers into separate networks to prevent lateral movement in case of a breach. This can be achieved using Docker Networks or CNI plugins.\n",
            "5.  **Monitor Container Activity**: Leverage tools like Docker's built-in logging and monitoring features, or third-party solutions like Prometheus and Grafana, to detect anomalies and suspicious activity.\n",
            "6.  **Regularly Update Images and Dependencies**: Keep container images up-to-date with the latest patches and dependencies to minimize vulnerabilities.\n",
            "7.  **Use a Web Application Firewall (WAF)**: Deploy a WAF to protect against common web attacks, such as SQL injection and cross-site scripting (XSS).\n",
            "8.  **Implement Least Privilege**: Run containers with minimal privileges to reduce attack surfaces. Use tools like Docker's User Namespace Remapping to limit container capabilities.\n",
            "9.  **Use a Container Runtime Security Solution**: Integrate a solution like AppArmor, SELinux, or seccomp to enforce fine-grained security policies and restrict container behavior.\n",
            "10. **Conduct Regular Security Audits**: Perform regular vulnerability scans and penetration testing to identify weaknesses and address them before they are exploited.\n",
            "11. **Use a Secure Communication Protocol**: Utilize TLS encryption for communication between containers and external services, such as databases or APIs.\n",
            "12. **Implement a Centralized Logging and Monitoring System**: Collect logs from all containers and systems to facilitate incident response and threat detection.\n",
            "\n",
            "By incorporating these best practices, organizations can significantly improve the security posture of their multi-container Docker architectures.\n"
          ]
        }
      ]
    }
  ]
}