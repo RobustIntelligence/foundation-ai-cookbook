{
  "nbformat": 4,
  "nbformat_minor": 0,
  "metadata": {
    "colab": {
      "provenance": []
    },
    "kernelspec": {
      "name": "python3",
      "display_name": "Python 3"
    },
    "language_info": {
      "name": "python"
    }
  },
  "cells": [
    {
      "cell_type": "markdown",
      "source": [
        "# Setup & Utils"
      ],
      "metadata": {
        "id": "AI5ozM2h2Nva"
      }
    },
    {
      "cell_type": "code",
      "source": [
        "import requests"
      ],
      "metadata": {
        "id": "BPloud0h2LI9"
      },
      "execution_count": null,
      "outputs": []
    },
    {
      "cell_type": "code",
      "source": [
        "import re\n",
        "\n",
        "def extract_model_response(text: str) -> str:\n",
        "    \"\"\"\n",
        "    Extracts the content between <think> and the final <|eot_id|> marker.\n",
        "\n",
        "    Parameters:\n",
        "        text (str): The full text containing <think> and <|eot_id|> markers.\n",
        "\n",
        "    Returns:\n",
        "        str: The extracted content between <think> and <|eot_id|>, or an empty string if not found.\n",
        "    \"\"\"\n",
        "    match = re.search(r\"<think>(.*?)<\\|end_of_text\\|>\", text, re.DOTALL)\n",
        "    return match.group(1).strip() if match else \"\"\n"
      ],
      "metadata": {
        "id": "u5pjZGi32FsI"
      },
      "execution_count": null,
      "outputs": []
    },
    {
      "cell_type": "markdown",
      "source": [
        "**Please enter the API key that was provided to you**"
      ],
      "metadata": {
        "id": "QpC9sBBxCdhS"
      }
    },
    {
      "cell_type": "code",
      "source": [
        "API_KEY = \"\""
      ],
      "metadata": {
        "id": "v46D7fgiBNZF"
      },
      "execution_count": null,
      "outputs": []
    },
    {
      "cell_type": "markdown",
      "source": [
        "# Use Case - Incident Summarization"
      ],
      "metadata": {
        "id": "XPagJ2ARpLnq"
      }
    },
    {
      "cell_type": "markdown",
      "source": [
        "**Use Case Description** – Critical cybersecurity incidents often result in lengthy, complex documentation that is difficult to digest, slowing triage, handoffs, and leadership visibility. The goal is to automatically condense these incident reports into concise summaries tailored to analysts or executives — enabling faster response, clearer communication, and more effective decision-making."
      ],
      "metadata": {
        "id": "ecaYZtYtqSh7"
      }
    },
    {
      "cell_type": "markdown",
      "source": [
        "## Incident Summarization Utils"
      ],
      "metadata": {
        "id": "CKEYGN20tBuZ"
      }
    },
    {
      "cell_type": "code",
      "source": [
        "def create_incident_summary_prompt(incident_document: str, summary_type: str = \"executive\") -> str:\n",
        "    \"\"\"Generate a prompt to summarize long-form cybersecurity incident documentation.\"\"\"\n",
        "    if summary_type == \"executive\":\n",
        "        instructions = (\n",
        "            \"You are a SOC assistant summarizing a lengthy incident report.\\n\"\n",
        "            \"Your task is to provide a clear, non-technical summary for security leadership.\\n\"\n",
        "            \"- Focus on what happened, when it happened, and why it matters\\n\"\n",
        "            \"- Keep it under 5 sentences\\n\"\n",
        "            \"- Use clear, plain language\"\n",
        "        )\n",
        "    elif summary_type == \"tactical\":\n",
        "        instructions = (\n",
        "            \"You are a SOC assistant extracting key technical findings from a lengthy incident report.\\n\"\n",
        "            \"Your task is to provide a concise bullet-point summary for L2/L3 analysts.\\n\"\n",
        "            \"- List key events and techniques\\n\"\n",
        "            \"- Use technical language where appropriate\"\n",
        "        )\n",
        "    else:\n",
        "        raise ValueError(\"Invalid summary_type. Use 'executive' or 'tactical'.\")\n",
        "\n",
        "    return f\"\"\"\n",
        "{instructions}\n",
        "\n",
        "## INCIDENT DOCUMENTATION\n",
        "{incident_document}\n",
        "\n",
        "Respond with a clear summary.\n",
        "\"\"\""
      ],
      "metadata": {
        "id": "hN_Y71s0qRN3"
      },
      "execution_count": null,
      "outputs": []
    },
    {
      "cell_type": "code",
      "source": [
        "def run_incident_summary_analysis(incident_document: str, summary_type: str = \"executive\") -> str:\n",
        "    \"\"\"Send incident document to AI model and return a summary.\"\"\"\n",
        "    prompt = create_incident_summary_prompt(incident_document, summary_type)\n",
        "\n",
        "    resp = requests.post(\n",
        "        \"https://model-dq4r501w.api.baseten.co/development/predict\",\n",
        "        headers={\"Authorization\": f\"Api-Key {API_KEY}\"},\n",
        "        json={\"prompt\": prompt},\n",
        "    )\n",
        "\n",
        "    return extract_model_response(resp.text)"
      ],
      "metadata": {
        "id": "FyCzvBt1tFrg"
      },
      "execution_count": null,
      "outputs": []
    },
    {
      "cell_type": "markdown",
      "source": [
        "## Example Usage"
      ],
      "metadata": {
        "id": "UOExQLWztJ6z"
      }
    },
    {
      "cell_type": "code",
      "source": [
        "long_incident_doc = \"\"\"\n",
        "Incident Report: IR-2025-0173\n",
        "\n",
        "Executive Summary:\n",
        "On April 4, 2025, the security operations center (SOC) was alerted to anomalous behavior originating from an engineering jump box (ENG-JB01). The incident spanned approximately 18 hours and resulted in the compromise of multiple internal systems, theft of sensitive source code repositories, and signs of attempted exfiltration to a known threat infrastructure host associated with APT29. This report outlines the timeline, impact, attacker techniques, and remediation actions taken.\n",
        "\n",
        "Timeline of Events:\n",
        "- 2025-04-04 01:14 UTC: Alert triggered for unusual lateral movement attempt originating from ENG-JB01. Logged by Cisco XDR as “Possible Pass-the-Hash movement attempt.”\n",
        "- 2025-04-04 01:18 UTC: Multiple failed Kerberos authentication attempts on host HR-LAPTOP-5 from ENG-JB01.\n",
        "- 2025-04-04 01:23 UTC: Successful logon to FIN-SQL-02 using a privileged service account (svc-backup-prod) outside of usual login times.\n",
        "- 2025-04-04 01:25 UTC: PowerShell execution detected from FIN-SQL-02 running a Base64-encoded command fetching content from hxxp://185.44.76.100/payload.ps1.\n",
        "- 2025-04-04 01:30 UTC: Scheduled task created named “WindowsHealth” on FIN-SQL-02 for persistence.\n",
        "- 2025-04-04 01:33 UTC: Internal network scanning activity detected from FIN-SQL-02 targeting subnet 10.0.42.0/24.\n",
        "- 2025-04-04 02:01 UTC: SMB and WMI-based authentication attempts observed toward code repository server (ENG-GIT-SRV).\n",
        "- 2025-04-04 02:11 UTC: Access to sensitive Git repositories verified using server audit logs.\n",
        "- 2025-04-04 02:15–04:30 UTC: Multiple 50–150MB file transfers from ENG-GIT-SRV to ENG-JB01. Total volume approx. 3.1GB.\n",
        "- 2025-04-04 04:45 UTC: Outbound connection to 185.44.76.100 established from ENG-JB01 on port 443, observed via egress firewall logs.\n",
        "- 2025-04-04 04:52 UTC: Data transfer spike of ~3.2GB to external host.\n",
        "- 2025-04-04 05:02 UTC: DLP system flagged unauthorized data exfiltration attempt. Incident escalated to IR team.\n",
        "- 2025-04-04 05:13 UTC: Isolation actions initiated on ENG-JB01, FIN-SQL-02, and ENG-GIT-SRV.\n",
        "- 2025-04-04 05:55 UTC: Memory capture and forensic triage initiated on all impacted systems.\n",
        "\n",
        "Tactics and Techniques:\n",
        "- Initial Access: Credential stuffing or lateral movement via Jump Box (ENG-JB01)\n",
        "- Credential Access: Possible Pass-the-Hash (T1550.002), credential dumping via LSASS access\n",
        "- Execution: Obfuscated PowerShell scripts (T1059.001)\n",
        "- Persistence: Scheduled Task creation (T1053.005)\n",
        "- Discovery: Network scanning (T1046)\n",
        "- Collection: Staging of large volumes of code repositories\n",
        "- Exfiltration: HTTPS outbound to threat infrastructure (T1041)\n",
        "\n",
        "Impacted Assets:\n",
        "- ENG-JB01 (Jump Box, staging point)\n",
        "- FIN-SQL-02 (Finance DB server, used for lateral movement)\n",
        "- ENG-GIT-SRV (Code repository server, source of exfiltrated data)\n",
        "\n",
        "Impacted Data:\n",
        "- At least 12 private Git repositories accessed\n",
        "- Two contained proprietary ML models and customer integration code\n",
        "- No indication of PII or PCI data exposure\n",
        "\n",
        "Root Cause:\n",
        "The attacker appears to have compromised or reused valid credentials on ENG-JB01, which had elevated network permissions. The exact credential acquisition method is undetermined but likely due to reuse or prior phishing compromise. MFA was not enabled on the jump box account.\n",
        "\n",
        "Remediation Actions:\n",
        "- Immediate network isolation of all affected systems\n",
        "- Reset of all privileged and domain service accounts\n",
        "- Implementation of LAPS and forced password rotation for local accounts\n",
        "- Blocking outbound traffic to 185.44.76.100 at the firewall\n",
        "- Deployment of EDR response rules for persistence techniques\n",
        "- Initiated rollout of MFA to all bastion and admin systems\n",
        "- Engaged law enforcement and threat intelligence partners for IOCs\n",
        "\n",
        "Lessons Learned:\n",
        "- MFA gaps on high-privilege infrastructure allowed credential reuse\n",
        "- Scheduled task creation alerts were not being monitored\n",
        "- EDR rules for base64-encoded PowerShell were disabled in engineering OU\n",
        "- Repository audit logging was insufficient to detect staging early\n",
        "\n",
        "Recommendations:\n",
        "- Mandatory MFA on all privileged and remote-access accounts\n",
        "- Enable audit logging on all code and data staging systems\n",
        "- Expand scheduled task alerting across all domains\n",
        "- Conduct purple team simulation to test lateral movement detection\n",
        "\n",
        "This report has been reviewed and approved by the incident response lead and executive security team. Further updates will be shared in postmortem review.\n",
        "\n",
        "-- End of Report --\n",
        "\"\"\"\n"
      ],
      "metadata": {
        "id": "LJXfStlxtIkL"
      },
      "execution_count": null,
      "outputs": []
    },
    {
      "cell_type": "code",
      "source": [
        "summary_exec = run_incident_summary_analysis(long_incident_doc, summary_type=\"executive\")\n",
        "print(\"🔎 Executive Summary:\\n\", summary_exec)"
      ],
      "metadata": {
        "colab": {
          "base_uri": "https://localhost:8080/"
        },
        "id": "wXeP1wu7tOXR",
        "outputId": "5e8b9d68-a75a-4f12-8697-124281c95835"
      },
      "execution_count": null,
      "outputs": [
        {
          "output_type": "stream",
          "name": "stdout",
          "text": [
            "🔎 Executive Summary:\n",
            " **Summary:** On April 4th, attackers breached our network through an unsecured jump box (ENG-JB01), leading to an 18-hour intrusion where they stole sensitive source code from our repositories and tried to send it to a known APT29 server. They used stolen credentials, obfuscated PowerShell commands, and scheduled tasks for persistence. We've isolated the affected systems, blocked the exfiltration channel, and started fixing MFA and other security gaps. This highlights the need for stronger access controls and monitoring, especially around critical assets like code repositories.\n"
          ]
        }
      ]
    },
    {
      "cell_type": "code",
      "source": [
        "summary_tactical = run_incident_summary_analysis(long_incident_doc, summary_type=\"tactical\")\n",
        "print(\"🛠️ Tactical Findings:\\n\", summary_tactical)"
      ],
      "metadata": {
        "colab": {
          "base_uri": "https://localhost:8080/"
        },
        "id": "GJpwf-zTtOeO",
        "outputId": "3cc291ab-3514-4a4f-f446-6be33693d178"
      },
      "execution_count": null,
      "outputs": [
        {
          "output_type": "stream",
          "name": "stdout",
          "text": [
            "🛠️ Tactical Findings:\n",
            " **Incident Summary: IR-2025-0173**\n",
            "\n",
            "- **Initial Compromise:** Anomalous lateral movement detected from ENG-JB01 (April 4, 01:14 UTC) via possible Pass-the-Hash (T1550.002) leading to unauthorized access on FIN-SQL-02 using svc-backup-prod account.\n",
            "- **Execution & Persistence:** PowerShell obfuscation (T1059.001) and scheduled task \"WindowsHealth\" (T1053.005) for persistence on FIN-SQL-02.\n",
            "- **Discovery & Collection:** Network scanning (T1046) and SMB/WMI access to ENG-GIT-SRV, followed by exfiltration of 3.1GB of source code repositories.\n",
            "- **Exfiltration:** Data staged and transferred over HTTPS to APT29-linked infrastructure (185.44.76.100) between 02:15–04:52 UTC.\n",
            "- **Isolation & Forensics:** Systems isolated (ENG-JB01, FIN-SQL-02, ENG-GIT-SRV) after exfiltration detected; memory captures initiated.\n",
            "- **Affected Assets:** ENG-JB01, FIN-SQL-02, ENG-GIT-SRV.\n",
            "- **Data Impact:** Sensitive source code stolen, no PII or PCI exposed.\n",
            "- **Root Cause:** Credential reuse or compromise on ENG-JB01 without MFA. Exact method unknown.\n",
            "- **Remediation:** Isolated systems, reset accounts, blocked exfiltration IP, deployed EDR rules, enforced MFA, engaged LE and TI partners.\n",
            "- **Lessons Learned:** MFA gaps, inadequate monitoring, disabled EDR rules, poor auditing.\n",
            "- **Recommendations:** Enforce MFA, improve audit logging, expand scheduled task monitoring, conduct simulations.\n",
            "\n",
            "**Key Recommendations:**\n",
            "- Mandate MFA for privileged accounts.\n",
            "- Enhance audit logging on critical servers.\n",
            "- Strengthen scheduled task monitoring.\n",
            "- Perform regular red team exercises.\n"
          ]
        }
      ]
    },
    {
      "cell_type": "code",
      "source": [],
      "metadata": {
        "id": "s5rQRzmrUaqc"
      },
      "execution_count": null,
      "outputs": []
    }
  ]
}