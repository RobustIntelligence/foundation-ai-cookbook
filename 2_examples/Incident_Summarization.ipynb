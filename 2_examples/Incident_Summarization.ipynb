{
 "cells": [
  {
   "cell_type": "markdown",
   "metadata": {
    "id": "AI5ozM2h2Nva"
   },
   "source": [
    "# Use Case Description\n",
    "\n",
    "Critical cybersecurity incidents often result in lengthy, complex documentation that is difficult to digest, slowing triage, handoffs, and leadership visibility. The goal is to automatically condense these incident reports into concise summaries tailored to analysts or executives — enabling faster response, clearer communication, and more effective decision-making.\n",
    "\n",
    "**For end to end incident investigation, see IncidentInvestigation_EndtoEnd. This notebook addresses a simple use case of incident summarization with longer logs**\n",
    "\n",
    "## Model used for this use case\n",
    "Both Instruct Model and Reasoning Model can be used, but Instruct Model could work better as no complex reasoning is involved."
   ]
  },
  {
   "cell_type": "markdown",
   "metadata": {
    "id": "BPloud0h2LI9"
   },
   "source": [
    "## SetUp\n",
    "\n",
    "The setup scripts below are essentially the same as those in the [Quickstart (Instruct Model)](https://github.com/RobustIntelligence/foundation-ai-cookbook/blob/main/1_quickstarts/Preview_Quickstart_instruct_model.ipynb)|"
   ]
  },
  {
   "cell_type": "code",
   "execution_count": 1,
   "metadata": {
    "id": "u5pjZGi32FsI"
   },
   "outputs": [],
   "source": [
    "import os\n",
    "import transformers\n",
    "import torch\n",
    "from IPython.display import display, Markdown\n",
    "\n",
    "HF_TOKEN = os.getenv(\"HF_TOKEN\")\n",
    "DEVICE = \"cuda\" if torch.cuda.is_available() else \"cpu\""
   ]
  },
  {
   "cell_type": "code",
   "execution_count": 2,
   "metadata": {
    "id": "v46D7fgiBNZF"
   },
   "outputs": [
    {
     "data": {
      "application/vnd.jupyter.widget-view+json": {
       "model_id": "280203c22e9b4d3fb2c7e93e2abfa59a",
       "version_major": 2,
       "version_minor": 0
      },
      "text/plain": [
       "Loading checkpoint shards:   0%|          | 0/4 [00:00<?, ?it/s]"
      ]
     },
     "metadata": {},
     "output_type": "display_data"
    }
   ],
   "source": [
    "MODEL_ID = \"\" # To be relaced with the final model name\n",
    "\n",
    "from transformers import AutoModelForCausalLM, AutoTokenizer\n",
    "\n",
    "tokenizer = AutoTokenizer.from_pretrained(MODEL_ID, token=HF_TOKEN)\n",
    "model = AutoModelForCausalLM.from_pretrained(\n",
    "    pretrained_model_name_or_path=MODEL_ID,\n",
    "    device_map=\"auto\",\n",
    "    torch_dtype=torch.bfloat16, # this model's tensor_type is BF16\n",
    "    token=HF_TOKEN,\n",
    ")"
   ]
  },
  {
   "cell_type": "code",
   "execution_count": 3,
   "metadata": {},
   "outputs": [],
   "source": [
    "generation_args = {\n",
    "    \"max_new_tokens\": 1024,\n",
    "    \"temperature\": None,\n",
    "    \"repetition_penalty\": 1.2,\n",
    "    \"do_sample\": False,\n",
    "    \"use_cache\": True,\n",
    "    \"eos_token_id\": tokenizer.eos_token_id,\n",
    "    \"pad_token_id\": tokenizer.pad_token_id,\n",
    "}"
   ]
  },
  {
   "cell_type": "code",
   "execution_count": 4,
   "metadata": {},
   "outputs": [],
   "source": [
    "import re\n",
    "\n",
    "def inference(prompt, system_prompt):\n",
    "    messages = [\n",
    "        {\"role\": \"system\", \"content\": system_prompt},\n",
    "        {\"role\": \"user\", \"content\": prompt},\n",
    "    ]\n",
    "    inputs = tokenizer.apply_chat_template(\n",
    "        messages, tokenize=False, add_generation_prompt=True\n",
    "    )\n",
    "    \n",
    "    inputs = tokenizer(inputs, return_tensors=\"pt\").to(DEVICE)\n",
    "    with torch.no_grad():\n",
    "        outputs = model.generate(\n",
    "            **inputs,\n",
    "            **generation_args,\n",
    "        )\n",
    "    response = tokenizer.decode(outputs[0], skip_special_tokens = False)\n",
    "    \n",
    "    # extract the assistant response part only\n",
    "    match = re.search(r\"<\\|assistant\\|>(.*?)<\\|end_of_text\\|>\", response, re.DOTALL)\n",
    "    \n",
    "    return match.group(1).strip()"
   ]
  },
  {
   "cell_type": "markdown",
   "metadata": {
    "id": "XPagJ2ARpLnq"
   },
   "source": [
    "## Incident Summarization"
   ]
  },
  {
   "cell_type": "code",
   "execution_count": 5,
   "metadata": {
    "id": "hN_Y71s0qRN3"
   },
   "outputs": [],
   "source": [
    "def make_prompt(incident_document: str, summary_type: str = \"executive\") -> str:\n",
    "\n",
    "    assert summary_type in [\"executive\", \"tactical\"], \"Invalid summary_type. Use 'executive' or 'tactical'.\"\n",
    "    \n",
    "    if summary_type == \"executive\":\n",
    "        instructions = (\n",
    "            \"Your task is to provide a clear, non-technical summary for security leadership.\\n\"\n",
    "            \"- Focus on what happened, when it happened, and why it matters\\n\"\n",
    "            \"- Keep it under 5 sentences\\n\"\n",
    "            \"- Use clear, plain language\"\n",
    "        )\n",
    "    elif summary_type == \"tactical\":\n",
    "        instructions = (\n",
    "            \"Your task is to provide a concise bullet-point summary for L2/L3 analysts.\\n\"\n",
    "            \"- List key events and techniques\\n\"\n",
    "            \"- Use technical language where appropriate\"\n",
    "        )\n",
    "\n",
    "    return f\"\"\"\n",
    "    {instructions}\n",
    "    \n",
    "    ## INCIDENT DOCUMENTATION\n",
    "    {incident_document}\n",
    "\n",
    "    Respond with a clear summary.\n",
    "    \"\"\""
   ]
  },
  {
   "cell_type": "markdown",
   "metadata": {},
   "source": [
    "Let's assume such an incident has happened and have model to summarize them"
   ]
  },
  {
   "cell_type": "code",
   "execution_count": 6,
   "metadata": {
    "id": "LJXfStlxtIkL"
   },
   "outputs": [],
   "source": [
    "long_incident_doc = \"\"\"\n",
    "Incident Report: IR-2025-0173\n",
    "\n",
    "Executive Summary:\n",
    "On April 4, 2025, the security operations center (SOC) was alerted to anomalous behavior originating from an engineering jump box (ENG-JB01). The incident spanned approximately 18 hours and resulted in the compromise of multiple internal systems, theft of sensitive source code repositories, and signs of attempted exfiltration to a known threat infrastructure host associated with APT29. This report outlines the timeline, impact, attacker techniques, and remediation actions taken.\n",
    "\n",
    "Timeline of Events:\n",
    "- 2025-04-04 01:14 UTC: Alert triggered for unusual lateral movement attempt originating from ENG-JB01. Logged by Cisco XDR as “Possible Pass-the-Hash movement attempt.”\n",
    "- 2025-04-04 01:18 UTC: Multiple failed Kerberos authentication attempts on host HR-LAPTOP-5 from ENG-JB01.\n",
    "- 2025-04-04 01:23 UTC: Successful logon to FIN-SQL-02 using a privileged service account (svc-backup-prod) outside of usual login times.\n",
    "- 2025-04-04 01:25 UTC: PowerShell execution detected from FIN-SQL-02 running a Base64-encoded command fetching content from hxxp://185.44.76.100/payload.ps1.\n",
    "- 2025-04-04 01:30 UTC: Scheduled task created named “WindowsHealth” on FIN-SQL-02 for persistence.\n",
    "- 2025-04-04 01:33 UTC: Internal network scanning activity detected from FIN-SQL-02 targeting subnet 10.0.42.0/24.\n",
    "- 2025-04-04 02:01 UTC: SMB and WMI-based authentication attempts observed toward code repository server (ENG-GIT-SRV).\n",
    "- 2025-04-04 02:11 UTC: Access to sensitive Git repositories verified using server audit logs.\n",
    "- 2025-04-04 02:15–04:30 UTC: Multiple 50–150MB file transfers from ENG-GIT-SRV to ENG-JB01. Total volume approx. 3.1GB.\n",
    "- 2025-04-04 04:45 UTC: Outbound connection to 185.44.76.100 established from ENG-JB01 on port 443, observed via egress firewall logs.\n",
    "- 2025-04-04 04:52 UTC: Data transfer spike of ~3.2GB to external host.\n",
    "- 2025-04-04 05:02 UTC: DLP system flagged unauthorized data exfiltration attempt. Incident escalated to IR team.\n",
    "- 2025-04-04 05:13 UTC: Isolation actions initiated on ENG-JB01, FIN-SQL-02, and ENG-GIT-SRV.\n",
    "- 2025-04-04 05:55 UTC: Memory capture and forensic triage initiated on all impacted systems.\n",
    "\n",
    "Tactics and Techniques:\n",
    "- Initial Access: Credential stuffing or lateral movement via Jump Box (ENG-JB01)\n",
    "- Credential Access: Possible Pass-the-Hash (T1550.002), credential dumping via LSASS access\n",
    "- Execution: Obfuscated PowerShell scripts (T1059.001)\n",
    "- Persistence: Scheduled Task creation (T1053.005)\n",
    "- Discovery: Network scanning (T1046)\n",
    "- Collection: Staging of large volumes of code repositories\n",
    "- Exfiltration: HTTPS outbound to threat infrastructure (T1041)\n",
    "\n",
    "Impacted Assets:\n",
    "- ENG-JB01 (Jump Box, staging point)\n",
    "- FIN-SQL-02 (Finance DB server, used for lateral movement)\n",
    "- ENG-GIT-SRV (Code repository server, source of exfiltrated data)\n",
    "\n",
    "Impacted Data:\n",
    "- At least 12 private Git repositories accessed\n",
    "- Two contained proprietary ML models and customer integration code\n",
    "- No indication of PII or PCI data exposure\n",
    "\n",
    "Root Cause:\n",
    "The attacker appears to have compromised or reused valid credentials on ENG-JB01, which had elevated network permissions. The exact credential acquisition method is undetermined but likely due to reuse or prior phishing compromise. MFA was not enabled on the jump box account.\n",
    "\n",
    "Remediation Actions:\n",
    "- Immediate network isolation of all affected systems\n",
    "- Reset of all privileged and domain service accounts\n",
    "- Implementation of LAPS and forced password rotation for local accounts\n",
    "- Blocking outbound traffic to 185.44.76.100 at the firewall\n",
    "- Deployment of EDR response rules for persistence techniques\n",
    "- Initiated rollout of MFA to all bastion and admin systems\n",
    "- Engaged law enforcement and threat intelligence partners for IOCs\n",
    "\n",
    "Lessons Learned:\n",
    "- MFA gaps on high-privilege infrastructure allowed credential reuse\n",
    "- Scheduled task creation alerts were not being monitored\n",
    "- EDR rules for base64-encoded PowerShell were disabled in engineering OU\n",
    "- Repository audit logging was insufficient to detect staging early\n",
    "\n",
    "Recommendations:\n",
    "- Mandatory MFA on all privileged and remote-access accounts\n",
    "- Enable audit logging on all code and data staging systems\n",
    "- Expand scheduled task alerting across all domains\n",
    "- Conduct purple team simulation to test lateral movement detection\n",
    "\n",
    "This report has been reviewed and approved by the incident response lead and executive security team. Further updates will be shared in postmortem review.\n",
    "\n",
    "-- End of Report --\n",
    "\"\"\"\n"
   ]
  },
  {
   "cell_type": "markdown",
   "metadata": {},
   "source": [
    "### Executive Summary"
   ]
  },
  {
   "cell_type": "code",
   "execution_count": 7,
   "metadata": {
    "colab": {
     "base_uri": "https://localhost:8080/"
    },
    "id": "wXeP1wu7tOXR",
    "outputId": "5e8b9d68-a75a-4f12-8697-124281c95835"
   },
   "outputs": [
    {
     "data": {
      "text/markdown": [
       "**Summary:** On April 4th, our Engineering Jump Box (ENG-JB01) was breached, leading to an 18-hour-long cyberattack that compromised several internal systems, including those holding sensitive source code repositories. Attackers employed tactics such as pass-the-hash attacks, obfuscated PowerShell commands, and scheduled tasks for persistence. They managed to steal over 3GB worth of confidential information before attempting to exfiltrate it through a known malicious IP address linked to APT29. We've isolated the infected machines, reset compromised credentials, blocked the offending IP, and started rolling out multi-factor authentication across critical systems. Moving forward, we're enhancing monitoring capabilities, improving auditing practices, and enforcing stricter controls around privileged accounts to prevent similar incidents."
      ],
      "text/plain": [
       "<IPython.core.display.Markdown object>"
      ]
     },
     "metadata": {},
     "output_type": "display_data"
    }
   ],
   "source": [
    "executive_system_prompt = \"You are a SOC assistant summarizing a lengthy incident report.\"\n",
    "\n",
    "summary_exec = inference(make_prompt(long_incident_doc, \"executive\"), executive_system_prompt)\n",
    "display(Markdown(summary_exec))"
   ]
  },
  {
   "cell_type": "markdown",
   "metadata": {},
   "source": [
    "### Tactical Summary"
   ]
  },
  {
   "cell_type": "code",
   "execution_count": 8,
   "metadata": {
    "colab": {
     "base_uri": "https://localhost:8080/"
    },
    "id": "GJpwf-zTtOeO",
    "outputId": "3cc291ab-3514-4a4f-f446-6be33693d178"
   },
   "outputs": [
    {
     "data": {
      "text/markdown": [
       "**Summary of Incident IR-2025-0173**\n",
       "\n",
       "*Key Findings:*\n",
       "\n",
       "- **Initial Compromise:** Anomalous activity started on ENG-JB01 with potential pass-the-hash technique noted at 01:14 UTC.\n",
       "  \n",
       "- **Lateral Movement & Privilege Escalation:** Unusual logins occurred on FIN-SQL-02 using svc-backup-prod account without typical usage patterns; successful at 01:23 UTC. \n",
       "\n",
       "- **Execution:** Observed obfuscated PowerShell script execution fetching payload from a malicious URL at 01:25 UTC.\n",
       "\n",
       "- **Persistence Mechanism:** Creation of a suspicious scheduled task \"WindowsHealth\" on FIN-SQL-02 at 01:30 UTC.\n",
       "\n",
       "- **Discovery Activity:** Targeted network scanning within subnet 10.0.42.0/24 from FIN-SQL-02 at 01:33 UTC.\n",
       "\n",
       "- **Data Collection:** Large files (~3.1GB total) transferred from ENG-GIT-SRV to ENG-JB01 between 02:15 - 04:30 UTC.\n",
       "\n",
       "- **Exfiltration Attempt:** Indication of data exfiltration over HTTPS to a known APT29 IP address starting at 04:45 UTC.\n",
       "\n",
       "*Techniques Used:* \n",
       "- T1550.002 – Credentials from Password Stores: Pass-the-Hash\n",
       "- T1059.001 – Command and Scripting Interpreter: PowerShell\n",
       "- T1053.005 – Server Software Component: Scheduled Task\n",
       "- T1046 – Network Service Scanning\n",
       "- T1041 – Exfiltration Over C2 Channel: Exfiltration Over Web Service\n",
       "\n",
       "*Affected Systems:*\n",
       "- ENG-JB01 (Engineering Jump Box)\n",
       "- FIN-SQL-02 (Financial SQL Database Server)\n",
       "- ENG-GIT-SRV (Source Code Repository Server)\n",
       "\n",
       "*Compromised Data:* Sensitive source code including proprietary ML models and customer integrations.\n",
       "\n",
       "*Root Cause Analysis:*\n",
       "- Likely credential reuse or previous phishing attack leading to initial access.\n",
       "- Lack of Multi-Factor Authentication (MFA) on ENG-JB01 contributed to the breach.\n",
       "\n",
       "*Response Measures Taken:*\n",
       "- Isolated affected hosts.\n",
       "- Account resets performed.\n",
       "- Implemented additional security measures such as LAPS for local accounts, blocked the identified C2 IP, updated EDR policies, enforced MFA, and engaged relevant stakeholders.\n",
       "\n",
       "*Recommendations:*\n",
       "- Enforce MFA on critical systems like ENG-JB01.\n",
       "- Improve monitoring for scheduled tasks and PowerShell activities.\n",
       "- Audit logging must cover code and data storage servers more comprehensively.\n",
       "- Regularly conduct red-team exercises focusing on lateral movement detection.\n",
       "\n",
       "*Conclusion:*\n",
       "A sophisticated adversary group, possibly APT29, exploited existing vulnerabilities related to poor credential management and inadequate monitoring to gain significant access and extract valuable intellectual property. Post-incident analysis emphasizes the importance of robust security hygiene practices and continuous improvement through lessons learned cycles."
      ],
      "text/plain": [
       "<IPython.core.display.Markdown object>"
      ]
     },
     "metadata": {},
     "output_type": "display_data"
    }
   ],
   "source": [
    "tactical_system_prompt = \"You are a SOC assistant extracting key technical findings from a lengthy incident report.\"\n",
    "\n",
    "summary_tactical = inference(make_prompt(long_incident_doc, \"tactical\"), tactical_system_prompt)\n",
    "display(Markdown(summary_tactical))"
   ]
  }
 ],
 "metadata": {
  "colab": {
   "provenance": []
  },
  "kernelspec": {
   "display_name": "Python 3 (ipykernel)",
   "language": "python",
   "name": "python3"
  },
  "language_info": {
   "codemirror_mode": {
    "name": "ipython",
    "version": 3
   },
   "file_extension": ".py",
   "mimetype": "text/x-python",
   "name": "python",
   "nbconvert_exporter": "python",
   "pygments_lexer": "ipython3",
   "version": "3.10.12"
  }
 },
 "nbformat": 4,
 "nbformat_minor": 4
}
