{
  "nbformat": 4,
  "nbformat_minor": 0,
  "metadata": {
    "colab": {
      "provenance": []
    },
    "kernelspec": {
      "name": "python3",
      "display_name": "Python 3"
    },
    "language_info": {
      "name": "python"
    }
  },
  "cells": [
    {
      "cell_type": "markdown",
      "source": [
        "# Setup & Utils"
      ],
      "metadata": {
        "id": "AI5ozM2h2Nva"
      }
    },
    {
      "cell_type": "code",
      "source": [
        "import requests"
      ],
      "metadata": {
        "id": "BPloud0h2LI9"
      },
      "execution_count": null,
      "outputs": []
    },
    {
      "cell_type": "code",
      "source": [
        "import re\n",
        "\n",
        "def extract_model_response(text: str) -> str:\n",
        "    \"\"\"\n",
        "    Extracts the content between <think> and the final <|eot_id|> marker.\n",
        "\n",
        "    Parameters:\n",
        "        text (str): The full text containing <think> and <|eot_id|> markers.\n",
        "\n",
        "    Returns:\n",
        "        str: The extracted content between <think> and <|eot_id|>, or an empty string if not found.\n",
        "    \"\"\"\n",
        "    match = re.search(r\"<think>(.*?)<\\|end_of_text\\|>\", text, re.DOTALL)\n",
        "    return match.group(1).strip() if match else \"\"\n"
      ],
      "metadata": {
        "id": "u5pjZGi32FsI"
      },
      "execution_count": null,
      "outputs": []
    },
    {
      "cell_type": "markdown",
      "source": [
        "**Please enter the API key that was provided to you**"
      ],
      "metadata": {
        "id": "QpC9sBBxCdhS"
      }
    },
    {
      "cell_type": "code",
      "source": [
        "API_KEY = \"\""
      ],
      "metadata": {
        "id": "v46D7fgiBNZF"
      },
      "execution_count": null,
      "outputs": []
    },
    {
      "cell_type": "markdown",
      "source": [
        "# Use Case 1 - MITRE Mapping Detection Plays"
      ],
      "metadata": {
        "id": "yBOR3_hl8bIG"
      }
    },
    {
      "cell_type": "markdown",
      "source": [
        "**Use Case Description** - Security teams often write detection rules or response playbooks (e.g., for SIEMs, SOAR platforms, or XDRs) but struggle to systematically map them to the right MITRE ATT&CK techniques. This limits the organization’s visibility into detection coverage and hinders frameworks like D3FEND, ATT&CK Navigator, and threat-informed defense.\n",
        "\n",
        "The goal is to automatically analyze each detection play’s logic, objective, and context — and match it to the most relevant ATT&CK technique(s) with high confidence."
      ],
      "metadata": {
        "id": "QoIZnrfY8fuC"
      }
    },
    {
      "cell_type": "markdown",
      "source": [
        "## MITRE Mapping Utils"
      ],
      "metadata": {
        "id": "DG3_UtSA8kJG"
      }
    },
    {
      "cell_type": "code",
      "source": [
        "def create_mitre_mapping_prompt(app_name, detection_plays):\n",
        "    \"\"\"Generate a prompt for mapping detection plays to MITRE techniques.\"\"\"\n",
        "    return f\"\"\"\n",
        "You are a cybersecurity analyst provided with a series of threat detection plays. Each play includes its name and a short objective.\n",
        "\n",
        "Your task: For each detection play, map it to the most relevant MITRE ATT&CK technique. Include:\n",
        "1. MITRE technique ID and name\n",
        "2. Justification for the mapping\n",
        "\n",
        "## DETECTION PLAYS\n",
        "{detection_plays}\n",
        "\n",
        "Respond in a structured format:\n",
        "- Play Name: <name>\n",
        "- MITRE Technique: <TXXXX: Technique Name>\n",
        "- Reason: <why it's a fit>\n",
        "\"\"\""
      ],
      "metadata": {
        "id": "ZzyrL9Uo8eUY"
      },
      "execution_count": null,
      "outputs": []
    },
    {
      "cell_type": "code",
      "source": [
        "def run_mitre_mapping_analysis(app_name, detection_plays):\n",
        "    \"\"\"Send detection plays to AI model and return MITRE mappings.\"\"\"\n",
        "    prompt = create_mitre_mapping_prompt(app_name, detection_plays)\n",
        "\n",
        "    resp = requests.post(\n",
        "        \"https://model-dq4r501w.api.baseten.co/development/predict\",\n",
        "        headers={\"Authorization\": f\"Api-Key {API_KEY}\"},\n",
        "        json={\"prompt\": prompt},\n",
        "    )\n",
        "\n",
        "    return extract_model_response(resp.text)"
      ],
      "metadata": {
        "id": "tP9VmFIK8r4_"
      },
      "execution_count": null,
      "outputs": []
    },
    {
      "cell_type": "markdown",
      "source": [
        "## Example Usage"
      ],
      "metadata": {
        "id": "Nv9uvI6q87MI"
      }
    },
    {
      "cell_type": "code",
      "source": [
        "sample_detection_plays = \"\"\"\n",
        "- Name: Monitor Multiple Failed Login Attempts\n",
        "  Objective: Detect brute-force attacks on user accounts by tracking repeated login failures.\n",
        "\n",
        "- Name: Alert on PowerShell Script Execution\n",
        "  Objective: Detect execution of potentially malicious PowerShell scripts by adversaries.\n",
        "\n",
        "- Name: Dumping LSASS credentials\n",
        "  Objective: Alert when attempts are made to dump credentials from LSASS process memory\n",
        "\"\"\"\n"
      ],
      "metadata": {
        "id": "q2F_gqvs853r"
      },
      "execution_count": null,
      "outputs": []
    },
    {
      "cell_type": "code",
      "source": [
        "output = run_mitre_mapping_analysis(\"Finance Reporting App\", sample_detection_plays)\n"
      ],
      "metadata": {
        "id": "OBsrE5qd9CFd"
      },
      "execution_count": null,
      "outputs": []
    },
    {
      "cell_type": "code",
      "source": [
        "print(output)\n"
      ],
      "metadata": {
        "colab": {
          "base_uri": "https://localhost:8080/"
        },
        "id": "g2mkftoA9Fba",
        "outputId": "03eaa5a0-5700-45a2-c73e-18d6808db776"
      },
      "execution_count": null,
      "outputs": [
        {
          "output_type": "stream",
          "name": "stdout",
          "text": [
            "---\n",
            "\n",
            "**Play Name:** Monitor Multiple Failed Login Attempts  \n",
            "**MITRE Technique:** T1110.001 - Brute Force: Password Guessing  \n",
            "**Reason:** This play is designed to detect brute-force attacks on user accounts by tracking repeated login failures. The MITRE ATT&CK technique T1110.001 specifically refers to the use of password guessing (brute force) where an attacker repeatedly tries different passwords until they find the correct one. Monitoring multiple failed login attempts aligns directly with this technique as it is a common method used by attackers to gain unauthorized access through trial-and-error authentication attempts.\n",
            "\n",
            "---\n",
            "\n",
            "**Play Name:** Alert on PowerShell Script Execution  \n",
            "**MITRE Technique:** T1059.003 - Command and Scripting Interpreter: PowerShell  \n",
            "**Reason:** The objective here is to detect execution of potentially malicious PowerShell scripts. PowerShell is a powerful scripting environment that can be abused by adversaries to execute commands, scripts, or payloads. The MITRE ATT&CK technique T1059.003 under Command and Scripting Interpreter specifically covers the abuse of PowerShell, which is a key tool used by attackers to perform various malicious activities. By alerting on PowerShell script execution, defenders can identify potential misuse of this interpreter, thus mapping to this technique.\n",
            "\n",
            "---\n",
            "\n",
            "**Play Name:** Dumping LSASS credentials  \n",
            "**MITRE Technique:** T1003.001 - OS Credential Dumping: LSASS Memory  \n",
            "**Reason:** The goal of this play is to alert when attempts are made to dump credentials from LSASS process memory. LSASS (Local Security Authority Subsystem Service) stores sensitive credential information, and dumping this data allows attackers to obtain plaintext passwords. The MITRE ATT&CK technique T1003.001 details the method of obtaining credentials via LSASS memory. Since the play's objective is to detect such attempts, it directly corresponds to this technique, which is a known tactic used by adversaries to compromise valid accounts.\n"
          ]
        }
      ]
    }
  ]
}